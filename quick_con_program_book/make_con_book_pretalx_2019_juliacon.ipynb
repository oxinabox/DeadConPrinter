{
 "cells": [
  {
   "cell_type": "code",
   "execution_count": 2,
   "metadata": {},
   "outputs": [],
   "source": [
    "from sessions import *\n",
    "from venueordering import *\n",
    "from pylatex_textboxes import *\n",
    "from formatting_solver import *"
   ]
  },
  {
   "cell_type": "code",
   "execution_count": 29,
   "metadata": {},
   "outputs": [],
   "source": [
    "import itertools as it\n",
    "import pandas as pd\n",
    "import datetime\n",
    "import dateutil.parser"
   ]
  },
  {
   "cell_type": "code",
   "execution_count": 51,
   "metadata": {},
   "outputs": [
    {
     "data": {
      "text/plain": [
       "id                                                        QZBKAU\n",
       "start                                  2019-07-24T15:45:00-04:00\n",
       "end                                    2019-07-24T17:45:00-04:00\n",
       "title          Polynomial and Moment Optimization in Julia an...\n",
       "tags                        Minisymposia / Extended Presentation\n",
       "people         Tillmann Weisser, Benoît Legat, Chris Coey, Le...\n",
       "venues                                                     Elm A\n",
       "description    Polynomial and moment optimization problems ar...\n",
       "Name: 0, dtype: object"
      ]
     },
     "execution_count": 51,
     "metadata": {},
     "output_type": "execute_result"
    }
   ],
   "source": [
    "df = pd.read_csv(\"../../datamove/out/juliacon2019.v06.deadcon.csv\")\n",
    "\n",
    "prog_item = df.iterrows().__next__()[1]\n",
    "prog_item"
   ]
  },
  {
   "cell_type": "code",
   "execution_count": 55,
   "metadata": {},
   "outputs": [],
   "source": [
    "def load_session(prog_item):\n",
    "   # print(prog_item)\n",
    "    title = prog_item.title\n",
    "    print(title)\n",
    "    id = hash(prog_item.id)\n",
    "    \n",
    "    start = dateutil.parser.parse(prog_item.start)\n",
    "    end = dateutil.parser.parse(prog_item.end)\n",
    "\n",
    "    people = prog_item.people\n",
    "    \n",
    "    tags = prog_item.tags.split(\",\")\n",
    "            \n",
    "    venues = [prog_item.venues]\n",
    "            \n",
    "    description = prog_item.description\n",
    "    return session(id, start, end, title, tags, people, venues, description)\n",
    "\n",
    "\n",
    "def fetch_sessions(path):\n",
    "    df = pd.read_csv(path,keep_default_na=False) #keep_default_na stops emptystring being converted to nan\n",
    "    return [load_session(irow[1]) \n",
    "            for irow in df.iterrows()\n",
    "           ]"
   ]
  },
  {
   "cell_type": "code",
   "execution_count": 56,
   "metadata": {},
   "outputs": [],
   "source": [
    "def all_venues(sessions):\n",
    "    return set().union(*(ss.venues for ss in sessions))\n",
    "\n",
    "def replace_room_with_rooms(sessions, old, *news):\n",
    "    for sess in sessions:\n",
    "        if old in sess.venues:\n",
    "            #print(sess.title)\n",
    "            sess.venues.remove(old)\n",
    "            sess.venues.update(news)\n",
    "    \n",
    "    sessions\n",
    "    \n",
    "\n",
    "\"Find multiple copies of events for different rooms at the same time, and convert them to single events in spanning rooms\"\n",
    "def bridge_rooms(sessions):\n",
    "    bridged_sessions = []\n",
    "    \n",
    "    sessions.sort(key=lambda x: (x.start, x.end, x.title))\n",
    "    for _, matchs in it.groupby(sessions, lambda x: (x.start, x.end, x.title)):\n",
    "        matchs = list(matchs) #GoldPlate: this doesn't have to be done\n",
    "        head = matchs[0]\n",
    "        tail = matchs[1:]\n",
    "        for sess in tail:\n",
    "            head.venues.update(sess.venues)\n",
    "        bridged_sessions.append(head)\n",
    "        \n",
    "    \n",
    "    sessions[:]=bridged_sessions[:]\n",
    "    return sessions\n",
    "\n",
    "def fill_empty_room_slots(sessions):\n",
    "    venues = all_venues(sessions)\n",
    "    for ss in sessions:\n",
    "        if len(ss.venues)==0:\n",
    "            print(ss.title)\n",
    "            ss.venues = venues\n",
    "    sessions\n"
   ]
  },
  {
   "cell_type": "code",
   "execution_count": 57,
   "metadata": {},
   "outputs": [
    {
     "name": "stdout",
     "output_type": "stream",
     "text": [
      "Polynomial and Moment Optimization in Julia and JuMP\n",
      "Differentiable Rendering and its Applications in Deep Learning\n",
      "JuliaCN: A community driven localization group for Julia in China\n",
      "Prototyping Visualizations for the Web with Vega and Julia\n",
      "ONNX.jl : Importing pretrained models into Flux\n",
      "Neural Network states and unsupervised learning for Open Quantum Systems\n",
      "An advanced electrodialysis process model in the Julia ecosystem\n",
      "Backticks and the Glorious Command  Literal\n",
      "Using Julia in Secure Environments\n",
      "MendelIHT.jl: How to fit Generalized Linear Models for High Dimensional Genetics (GWAS) Data\n",
      "Nonlinear Mixed Effects Modeling with PuMaS\n",
      "TSML (Time Series Machine Learning)\n",
      "Julia Survey Results\n",
      "Yao.jl: Extensible, Efficient Quantum Algorithm Design for Humans.\n",
      "Concolic Fuzzing -- Or how to run a theorem prover on your Julia code\n",
      "Handling Data with DataFrames.jl\n",
      "Excelling at Julia: basics and beyond\n",
      "LightQuery.jl\n",
      "Intermediate Julia for Scientific Computing\n",
      "Writing a package -- a thorough guide\n",
      "Parallel Computing Workshop\n",
      "Solving Differential Equations in Julia\n",
      "Keynote: Professor Madeleine Udell\n",
      "Keynote: Professor Heather Miller\n",
      "Keynote: Dr Arch Robinson\n",
      "Keynote: Dr Cynthia J Musante\n",
      "Opening Remarks\n",
      "Sponsor Address: J P Morgan Chase & Co.\n",
      "Sponsor Address: Julia Computing\n",
      "DataKnots.jl - an extensible, practical and coherent algebra of query combinators\n",
      "Sponsor Address: Intel\n",
      "Sponsor Address: University of Maryland\n",
      "Keynote: Professor Steven G Johnson\n",
      "High-Performance Portfolio Risk Aggregation\n",
      "Keynote: Dr Steven Lee\n",
      "Dynamical Modeling in Julia\n",
      "Julia in Healthcare\n",
      "Turing: Probabalistic Programming in Julia\n",
      "The Julia Language 1.0 Ephemeris and Physical Constants Reader for Solar System Bodies\n",
      "Interval methods for scientific computing in Julia\n",
      "A Showcase for Makie\n",
      "Formatting Julia\n",
      "Generic Sparse Data Structures on GPUs\n",
      "PackageCompiler\n",
      "Julia for Battery Model Parameter Estimation\n",
      "SemanticModels.jl: not just another modeling framework\n",
      "Static walks through dynamic programs -- a conversation with type-inference.\n",
      "“Online” Estimation of Macroeconomic Models\n",
      "JuliaDB Code and Chat\n",
      "Brain Tumour Classification with Julia\n",
      "Computational topology and Boolean operations with Julia sparse arrays\n",
      "A case study of migrating Timelineapp.co to the Julia language\n",
      "Pyodide: The scientific Python stack compiled to WebAssembly\n",
      "Recommendation.jl: Building Recommender Systems in Julia\n",
      "Slow images, fast numbers: Using Julia in biomedical imaging and beyond\n",
      "Analyzing and updating code with JuliaInterpreter and Revise\n",
      "Debugging code with JuliaInterpreter\n",
      "Symbolic Manipulation in Julia\n",
      "Ultimate Datetime\n",
      "State of the Data: JuliaData\n",
      "Geometric algebra in Julia with Grassmann.jl\n",
      "Mimi.jl – Next Generation Climate Economics Modeling\n",
      "Neural Ordinary Differential Equations with DiffEqFlux\n",
      "How We Wrote a Textbook using Julia\n",
      "Re-designing Optim\n",
      "Randomized Sketching for Approximate Gradients : Applications to PDE Constrained Optimization and Backpropagation.\n",
      "Literate programming with Literate.jl\n",
      "Let's Play Hanabi!\n",
      "If Runtime isn't Funtime: Controlling Compile-time Execution\n",
      "The Climate Machine: A New Earth System Model in Julia\n",
      "GigaSOM.jl: Huge-scale, high-performance flow cytometry clustering in Julia\n",
      "FilePaths: File system abstractions and why we need them\n",
      "Smart House with JuliaBerry\n",
      "Pkg, Project.toml, Manifest.toml and Environments\n",
      "Performant parallelism with productivity and portability.\n",
      "Electrifying Transportation with Julia\n",
      "Julia's Killer App(s): Implementing State Machines Simply using Multiple Dispatch\n",
      "What's Bad About Julia\n",
      "Julia web servers deployment\n",
      "Machine Learning Workshop\n",
      "Machine Learning for Social Good\n",
      "Diversity and Inclusion in Julia Community\n",
      "OmniSci.jl: Bringing the open-source, GPU-accelerated relational database to Julia\n",
      "Writing maintainable Julia code\n",
      "Efficient Stiff Ordinary Differential Equation Solvers for Quantitative Systems Pharmacology (QsP)\n",
      "Fitting Neural Ordinary Differential Equations with DiffeqFlux.jl\n",
      "Open Source Power System Production Cost Modeling in Julia\n",
      "Solving Delay Differential Equations with Julia\n",
      "IVIVC.jl: In vitro – in vivo correlation module as part of an integrated pharmaceutical modeling and simulation platform\n",
      "Julia + JavaScript = <3\n",
      "The Unreasonable Effectiveness of Multiple Dispatch\n",
      "Targeting Accelerators with MLIR.jl\n",
      "Real-time prediction and control of dynamical models via machine learning\n",
      "Raising Diversity & Inclusion among Julia users\n",
      "A probabilistic programming language for switching Kalman filters\n",
      "Sustainable Development and Open Source Monetization\n",
      "Mining Imbalanced Big Data with Julia\n",
      "SIMD and cache-aware sorting with ChipSort.jl\n",
      "Guaranteed Constrained and unconstrained global optimization in Julia\n",
      "A general-purpose toolbox for efficient Kronecker-based learning\n",
      "Modeling in Julia at Exascale for Power Grids\n",
      "Probabilistic Biostatistics: Adventures with Julia from Code to Clinic\n",
      "Generating documentation: under the hood of Documenter.jl\n",
      "Soss.jl: Probabilistic Metaprogramming in Julia\n",
      "HydroPowerModels.jl: A Julia/JuMP Package for Hydrothermal economic dispatch Optimization\n",
      "Porting a massively parallel Multi-GPU application to Julia: a 3-D nonlinear multi-physics flow solver\n",
      "Building a Debugger with Cassette\n",
      "Implicit Geometry with Multi-Dimensional Bisection Method\n",
      "Analyzing social networks with SimpleHypergraphs.jl\n",
      "TimerOutputs.jl - a cheap and cheerful instrumenting profiler\n",
      "XLA.jl: Julia on TPUs\n",
      "Non-Gaussian State-estimation with JuliaRobotics/Caesar.jl\n",
      "The Linguistics of Puzzles: Solving Cryptic Crosswords in Julia\n",
      "Why writing C interfaces in Julia is so easy*\n",
      "Cleaning messy data with Julia and Gen\n",
      "What I learned from developing ExponentialUtilities.jl\n",
      "Heterogeneous Agent Dynamic Stochastic General Equilibrium (DSGE) Models in Julia at the Federal Reserve Bank of New York\n",
      "Merging machine learning and econometric algorithms to improve feature selection with Julia\n",
      "Array Data Distribution with ArrayChannels.jl\n",
      "TrajectoryOptimization.jl: A testbed for optimization-based robotic motion planning\n",
      "Gaussian Process Probabilistic Programming with Stheno.jl\n",
      "Modia3D: Modeling and Simulation of 3D-Systems in Julia\n",
      "MLJ - Machine Learning in Julia\n",
      "Correlation Analysis in Julia\n",
      "Queryverse - Under the Hood\n",
      "Transducers: data-oriented abstraction for sequential and parallel algorithms on containers\n",
      "Gen: a general-purpose probabilistic programming system with programmable inference built on Julia\n",
      "Differentiate All The Things!\n",
      "Simulation and estimation of Nonlinear Mixed Effects Models with PuMaS.jl\n",
      "A New Breed of Vehicle Simulation\n",
      "Intelligent Tensors in Julia\n",
      "Towards Faster Sorting and Group-by operations\n",
      "Counting On Floating Point\n",
      "Differential Programming Tensor Networks\n"
     ]
    }
   ],
   "source": [
    "sessions = fetch_sessions(\"../../datamove/out/juliacon2019.v06.deadcon.csv\")"
   ]
  },
  {
   "cell_type": "code",
   "execution_count": 59,
   "metadata": {},
   "outputs": [],
   "source": [
    "# Remove sessions that are not really program items from the book's perspective\n",
    "#nonevent_rooms = set([\"Meeting Room 1\", 'Meetings on 5 foyer', 'Boardroom foyer'])\n",
    "#sessions = [sess for sess in sessions \n",
    "#            if sess.venues==set() or sess.venues-nonevent_rooms != set()]"
   ]
  },
  {
   "cell_type": "code",
   "execution_count": 60,
   "metadata": {
    "scrolled": true
   },
   "outputs": [],
   "source": [
    "#replace_room_with_rooms(sessions, 'Swan Rooms', 'Swan Room, Black', 'Swan Room, White')\n",
    "bridge_rooms(sessions);\n",
    "fill_empty_room_slots(sessions)"
   ]
  },
  {
   "cell_type": "code",
   "execution_count": 62,
   "metadata": {},
   "outputs": [
    {
     "data": {
      "text/plain": [
       "{('BOF!',),\n",
       " ('Elm A',),\n",
       " ('Elm B',),\n",
       " ('NS Room 130',),\n",
       " ('PH 103N',),\n",
       " ('PH 111N',),\n",
       " ('PH 203N',),\n",
       " ('PH 211N',),\n",
       " ('Room 349',)}"
      ]
     },
     "execution_count": 62,
     "metadata": {},
     "output_type": "execute_result"
    }
   ],
   "source": [
    "venues = set(tuple(cc.venues) for cc in sessions)\n",
    "venues"
   ]
  },
  {
   "cell_type": "code",
   "execution_count": 108,
   "metadata": {},
   "outputs": [],
   "source": [
    "venue_order = [\n",
    " 'BOF!',\n",
    " 'Elm A',\n",
    " 'Elm B',\n",
    " 'Room 349',\n",
    " 'NS Room 130',\n",
    " 'PH 103N',\n",
    " 'PH 111N',\n",
    " 'PH 203N',\n",
    " 'PH 211N',\n",
    "]"
   ]
  },
  {
   "cell_type": "code",
   "execution_count": 109,
   "metadata": {},
   "outputs": [],
   "source": [
    "from pylatex.utils import escape_latex, NoEscape\n",
    "from pylatex.utils import NoEscape\n",
    "from pagelayout import Multicols\n",
    "from itertools import groupby\n",
    "from pylatex.base_classes import Environment\n",
    "\n",
    "class Minipage(Environment):\n",
    "    def __init__(self, width):\n",
    "        Environment.__init__(self,arguments=[width])\n",
    "\n",
    "\n",
    "def write_descriptions(sessions, doc):\n",
    "    for day_name, day_session in groupby(sessions, lambda ss: ss.day):\n",
    "        #with doc.create(Section(day_name,numbering=False)):\n",
    "            with doc.create(Multicols(2)):\n",
    "                doc.append(NoEscape(\"[\\section*{%s}]\" %day_name))\n",
    "                for session in day_session:\n",
    "                    if len(session.description)==0:\n",
    "                        continue\n",
    "                    title = session.title\n",
    "                    with doc.create(Subsection(title,numbering=False, label=False)):\n",
    "                        with doc.create(Description()) as desc:\n",
    "                            doc.append(Command(\"setlength\",[NoEscape(\"\\itemsep\"),\"0pt\"]))\n",
    "                            doc.append(Command(\"setlength\",[NoEscape(\"\\parsep\"),\"0pt\"]))\n",
    "                            doc.append(Command(\"setlength\",[NoEscape(\"\\parskip\"),\"0pt\"]))\n",
    "                            desc.add_item(\"When:\", session.day+\", \"+session.start_time+\" – \"+session.end_time)\n",
    "\n",
    "                            if len(session.venues)>0:\n",
    "                                desc.add_item(\"Where:\", \", \".join(session.venues))\n",
    "                            if len(session.people)>0:\n",
    "                                desc.add_item(\"Who:\", \", \".join(session.people))\n",
    "                            #if len(session.tags)>0:\n",
    "                            #    desc.add_item(\"Tags:\", \", \".join(session.tags))\n",
    "                        doc.append(session.description)\n",
    "                doc.append(Command(\"newpage\"))"
   ]
  },
  {
   "cell_type": "code",
   "execution_count": 110,
   "metadata": {
    "scrolled": true
   },
   "outputs": [],
   "source": [
    "import pylatex\n",
    "from pylatex import Document, Section, Subsection, Subsubsection, Table, Package, lists\n",
    "from pylatex.lists import Description\n",
    "\n",
    "from pylatex.utils import escape_latex, NoEscape\n",
    "from itertools import groupby\n",
    "from pylatex.base_classes.command import Options\n",
    "from pylatex.utils import escape_latex\n",
    "\n",
    "def write_venues(doc, tt_solver):\n",
    "    doc.append(textpos_origin('0.9cm','1cm'))\n",
    "    doc.append(TextcolorboxStyle('sharp corners','center upper', valign='center',\n",
    "                                 colframe='blue!50!black',colback='blue!10!white',\n",
    "                                 boxsep='0pt',top='0mm',bottom='0mm',left='0mm',right='1mm'))\n",
    "            \n",
    "    for venue in tt_solver.venues:\n",
    "        \n",
    "        venue_words = venue.split()\n",
    "        if len(venue_words) == 2:\n",
    "            #Split the string onto two lines if it exactly 2 words\n",
    "            venue_text = venue_words[0] + '\\n' + venue_words[1]\n",
    "        else:\n",
    "            venue_text = venue\n",
    "        \n",
    "        doc.append(FixedTextbox(venue_text,\n",
    "                                tt_solver.get_venue_x(venue),\n",
    "                                '0cm', \n",
    "                                '1.5cm',\n",
    "                                tt_solver.get_venue_width())\n",
    "                               )\n",
    "\n",
    "def make_pretty_timetable(doc,sessions, tt_solver_maker):\n",
    "        \n",
    "    for date, day_sessions in groupby(sessions, lambda ss: ss.start.date()):   \n",
    "        day_str = str(DAYS[date.weekday()])\n",
    "        with doc.create(Subsection(NoEscape(day_str+\" \\hfill \"+day_str+\" \\hfill \"+day_str), numbering=False)):\n",
    "            tt_solver = tt_solver_maker(sessions)\n",
    "            write_venues(doc,tt_solver)\n",
    "            doc.append(TextcolorboxStyle('rounded corners', 'center upper', valign='center',\n",
    "                                 colframe='blue!50!black',colback='white!10!white',\n",
    "                                 boxsep='1pt',top='0mm',bottom='0mm',left='0mm',right='0mm'))\n",
    "            \n",
    "            day_sessions = sorted(day_sessions, key = lambda ss: -len(ss.venues) or -len(tt_solver.venues)-1)\n",
    "            for session in day_sessions:\n",
    "                #print(\"*\", session.title)\n",
    "                colback = tt_solver.get_color(session)\n",
    "                tcb_options = Options(colback=colback) if colback else None\n",
    "                doc.append(FixedTextbox(NoEscape('%s \\\\\\\\ \\\\tcbfontsize{0.75} %s -- %s ' % \n",
    "                                                     tuple(map(escape_latex, (session.title, session.start_time, session.end_time)))),\n",
    "                                        tt_solver.get_x(session),\n",
    "                                        tt_solver.get_y(session), \n",
    "                                        tt_solver.get_height(session),\n",
    "                                        tt_solver.get_width(session),\n",
    "                                        tcb_options=tcb_options))\n",
    "\n",
    "            doc.append(Command('newpage'))"
   ]
  },
  {
   "cell_type": "code",
   "execution_count": 111,
   "metadata": {
    "scrolled": true
   },
   "outputs": [
    {
     "data": {
      "text/html": [
       "./out/<br>\n",
       "&nbsp;&nbsp;<a href='./out/exported.synctex.gz' target='_blank'>exported.synctex.gz</a><br>\n",
       "&nbsp;&nbsp;<a href='./out/exported.log' target='_blank'>exported.log</a><br>\n",
       "&nbsp;&nbsp;<a href='./out/exported.aux' target='_blank'>exported.aux</a><br>\n",
       "&nbsp;&nbsp;<a href='./out/exported.pdf' target='_blank'>exported.pdf</a><br>\n",
       "&nbsp;&nbsp;<a href='./out/exported.tex' target='_blank'>exported.tex</a><br>\n",
       "./out/.ipynb_checkpoints/<br>\n",
       "&nbsp;&nbsp;<a href='./out/.ipynb_checkpoints/exported-checkpoint.tex' target='_blank'>exported-checkpoint.tex</a><br>"
      ],
      "text/plain": [
       "./out/\n",
       "  exported.synctex.gz\n",
       "  exported.log\n",
       "  exported.aux\n",
       "  exported.pdf\n",
       "  exported.tex\n",
       "./out/.ipynb_checkpoints/\n",
       "  exported-checkpoint.tex"
      ]
     },
     "execution_count": 111,
     "metadata": {},
     "output_type": "execute_result"
    }
   ],
   "source": [
    "doc = Document(documentclass=\"scrreprt\")\n",
    "margins=['tmargin=0.5cm','bmargin=2cm','lmargin=1.5cm','rmargin=1cm',]\n",
    "doc.packages.append(Package('geometry', options=margins))\n",
    "doc.packages.append(Package('xcolor', options=[\"svgnames\",\"dvipsnames\"]))\n",
    "doc.packages.append(Package(\"microtype\"))\n",
    "\n",
    "#doc.packages.append(Package(\"draftwatermark\"))\n",
    "doc.append(Command(\"newgeometry\",arguments=\",\".join(margins)))\n",
    "#doc.append(Command(\"SetWatermarkText\", \"Draft v0.7.0\"))\n",
    "#doc.append(Command(\"SetWatermarkScale\", \"0.5\"))\n",
    "#doc.append(Command(\"SetWatermarkColor\", \"0.9,0.3,0.3\", \"rgb\"))\n",
    "\n",
    "\n",
    "#############\n",
    "tt_solver_maker = lambda sessions: timetable_metric_solver(sessions,\n",
    "                                    hour_len=2.7,\n",
    "                                    venue_width=2.15,\n",
    "                                    units='cm',\n",
    "                                    overlap=0.05,\n",
    "                                    voffset=1.7,             \n",
    "                                    venue_order = venue_order,\n",
    "                                    get_tag_colors = get_tag_colors_mono\n",
    "                                    )\n",
    "\n",
    "make_pretty_timetable(doc,sessions, tt_solver_maker)\n",
    "write_descriptions(sessions,doc)\n",
    "\n",
    "###############\n",
    "with open(\"out/exported.tex\", 'w') as fh:\n",
    "    doc.dump(fh)\n",
    "#####\n",
    "    \n",
    "from IPython.display import FileLink, FileLinks\n",
    "    \n",
    "#!lualatex --output-directory=out --interaction=nonstopmode out/exported.tex\n",
    "FileLinks(\"./out\")"
   ]
  },
  {
   "cell_type": "code",
   "execution_count": 98,
   "metadata": {},
   "outputs": [
    {
     "data": {
      "text/plain": [
       "'/Users/oxinabox/JuliaEnvs/JuliaCon2019/ProgramTools/DeadConPrinter/quick_con_program_book'"
      ]
     },
     "execution_count": 98,
     "metadata": {},
     "output_type": "execute_result"
    }
   ],
   "source": [
    "pwd"
   ]
  },
  {
   "cell_type": "code",
   "execution_count": 14,
   "metadata": {},
   "outputs": [
    {
     "data": {
      "text/plain": [
       "['Stephen Dedman', 'Andrew Williams', 'Luke Chandler-Hopkins', 'Chris Creagh']"
      ]
     },
     "execution_count": 14,
     "metadata": {},
     "output_type": "execute_result"
    }
   ],
   "source": [
    "sessions[12].people"
   ]
  },
  {
   "cell_type": "code",
   "execution_count": 112,
   "metadata": {},
   "outputs": [
    {
     "data": {
      "text/html": [
       "./out/<br>\n",
       "&nbsp;&nbsp;<a href='./out/exported_days.tex' target='_blank'>exported_days.tex</a><br>\n",
       "&nbsp;&nbsp;<a href='./out/exported.synctex.gz' target='_blank'>exported.synctex.gz</a><br>\n",
       "&nbsp;&nbsp;<a href='./out/exported.log' target='_blank'>exported.log</a><br>\n",
       "&nbsp;&nbsp;<a href='./out/exported.aux' target='_blank'>exported.aux</a><br>\n",
       "&nbsp;&nbsp;<a href='./out/exported.pdf' target='_blank'>exported.pdf</a><br>\n",
       "&nbsp;&nbsp;<a href='./out/exported.tex' target='_blank'>exported.tex</a><br>\n",
       "./out/.ipynb_checkpoints/<br>\n",
       "&nbsp;&nbsp;<a href='./out/.ipynb_checkpoints/exported-checkpoint.tex' target='_blank'>exported-checkpoint.tex</a><br>"
      ],
      "text/plain": [
       "./out/\n",
       "  exported_days.tex\n",
       "  exported.synctex.gz\n",
       "  exported.log\n",
       "  exported.aux\n",
       "  exported.pdf\n",
       "  exported.tex\n",
       "./out/.ipynb_checkpoints/\n",
       "  exported-checkpoint.tex"
      ]
     },
     "execution_count": 112,
     "metadata": {},
     "output_type": "execute_result"
    }
   ],
   "source": [
    "#ROOMs/DAYS\n",
    "\n",
    "import pylatex\n",
    "from pylatex import Document, Section, Subsection, Subsubsection, Table, Package,lists\n",
    "from pylatex.lists import Description\n",
    "from pylatex.base_classes import Command\n",
    "\n",
    "\n",
    "from itertools import groupby\n",
    "\n",
    "from collections import defaultdict\n",
    "vds = defaultdict(lambda : defaultdict(list))\n",
    "for date, day_sessions in groupby(sessions, lambda ss: ss.start.date()):\n",
    "    for sess in day_sessions:\n",
    "        for venue in sess.venues:\n",
    "            vds[venue][date].append(sess)\n",
    "\n",
    "#################################\n",
    "doc = Document(documentclass=\"article\")\n",
    "doc.packages.append(Package('enumitem'))\n",
    "doc.packages.append(Package('calc'))\n",
    "doc.append(NoEscape(r\"\\setlist[description]{leftmargin=!,labelwidth=\\widthof{\\bfseries 13:00  –  14:00}}\"))\n",
    "for venue in vds.keys():\n",
    "    doc.append(Command(\"newpage\"))\n",
    "    doc.append(Command(\"pagestyle\",\"empty\"))\n",
    "    doc.append(Command(\"LARGE\"))\n",
    "    doc.append(NoEscape(r\"\\renewcommand{\\familydefault}{\\sfdefault}\"))\n",
    "    for date in sorted(vds[venue]):\n",
    "        day = DAYS[date.weekday()]\n",
    "        with doc.create(Section(NoEscape(\"\\Huge %s\\\\\\\\ %s\" % (day,venue)), numbering=False)):\n",
    "            \n",
    "            with doc.create(Description()) as sched:\n",
    "                sesses = sorted(vds[venue][date], key=lambda ss: ss.start)\n",
    "                for sess in sesses:\n",
    "                    sched.add_item(NoEscape(\"%s  –  %s\" % (sess.start_time, sess.end_time)), sess.title)\n",
    "            doc.append(Command(\"newpage\"))\n",
    "            \n",
    "                \n",
    "\n",
    "from IPython.display import FileLink, FileLinks\n",
    "with open(\"out/exported_days.tex\", 'w') as temp_out:\n",
    "    doc.dump(temp_out)\n",
    "\n",
    "#!lualatex --output-directory=out --interaction=nonstopmode exported_days.tex\n",
    "FileLinks(\"./out\")\n"
   ]
  },
  {
   "cell_type": "code",
   "execution_count": null,
   "metadata": {},
   "outputs": [],
   "source": []
  },
  {
   "cell_type": "code",
   "execution_count": null,
   "metadata": {},
   "outputs": [],
   "source": []
  }
 ],
 "metadata": {
  "kernelspec": {
   "display_name": "Python 3",
   "language": "python",
   "name": "python3"
  },
  "language_info": {
   "codemirror_mode": {
    "name": "ipython",
    "version": 3
   },
   "file_extension": ".py",
   "mimetype": "text/x-python",
   "name": "python",
   "nbconvert_exporter": "python",
   "pygments_lexer": "ipython3",
   "version": "3.7.3"
  }
 },
 "nbformat": 4,
 "nbformat_minor": 2
}
