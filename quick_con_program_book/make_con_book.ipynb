{
 "cells": [
  {
   "cell_type": "markdown",
   "metadata": {},
   "source": [
    "#LiveCon Printer\n",
    "This is a proof of concept, to directly producting a Program book,\n",
    "out of the LiveCon CSV.\n"
   ]
  },
  {
   "cell_type": "code",
   "execution_count": null,
   "metadata": {
    "collapsed": true
   },
   "outputs": [],
   "source": []
  },
  {
   "cell_type": "code",
   "execution_count": 1,
   "metadata": {
    "collapsed": true
   },
   "outputs": [],
   "source": [
    "#CONFIG\n",
    "import pytz\n",
    "LOCAL_TIMEZONE = pytz.timezone(\"Australia/Perth\")\n",
    "SLOT_LENGTH_MINUTES = 30\n"
   ]
  },
  {
   "cell_type": "code",
   "execution_count": null,
   "metadata": {
    "collapsed": false
   },
   "outputs": [],
   "source": []
  },
  {
   "cell_type": "code",
   "execution_count": 2,
   "metadata": {
    "collapsed": false
   },
   "outputs": [],
   "source": [
    "def normalise(string): \n",
    "    import unicodedata\n",
    "    import pylatex.utils\n",
    "    import re\n",
    "    string = string.replace(\"\\r\",'')\n",
    "    string = str(pylatex.utils.escape_latex(string))\n",
    "    string = re.sub(r'(\\\\\\\\)', r'\\\\', string )\n",
    "    return string.strip()\n",
    "    \n",
    "\n",
    "def load_list(csl):\n",
    "    ldlst =  str.split(normalise(csl), ', ')\n",
    "    if ldlst==['']:\n",
    "        return []\n",
    "    else:\n",
    "        return ldlst\n",
    "    \n",
    "def parse_datetime(datetime_str):\n",
    "    import dateutil.parser\n",
    "    \n",
    "    raw = dateutil.parser.parse(datetime_str)\n",
    "    return raw.astimezone(LOCAL_TIMEZONE)\n",
    "\n",
    "\n",
    "class session (object):\n",
    "    def __init__(self, id,\n",
    "                 start_time_str,end_time_str,\n",
    "                 title,tags_str,people_str,\n",
    "                 venues_str,description):\n",
    "        self.id = int(id)\n",
    "        self.start = parse_datetime(start_time_str)\n",
    "        self.end = parse_datetime(end_time_str)\n",
    "        self.title = normalise(title)\n",
    "        self.tags = load_list(tags_str)\n",
    "        self.people = load_list(people_str)\n",
    "        self.venues = load_list(venues_str)\n",
    "        self.description = normalise(description)\n",
    "    \n",
    "    @property\n",
    "    def day(self):\n",
    "        week_days   = ['Sunday', \n",
    "          'Monday', \n",
    "          'Tuesday', \n",
    "          'Wednesday', \n",
    "          'Thursday',  \n",
    "          'Friday', \n",
    "          'Saturday']\n",
    "        daynum = self.start.weekday()\n",
    "        return week_days[daynum]\n",
    "    \n",
    "    \n",
    "    @property\n",
    "    def start_time(self):\n",
    "        return self.start.strftime(\"%H:%M\")\n",
    "    \n",
    "    @property\n",
    "    def end_time(self):\n",
    "        return self.end.strftime(\"%H:%M\")\n",
    "    "
   ]
  },
  {
   "cell_type": "code",
   "execution_count": 3,
   "metadata": {
    "collapsed": false
   },
   "outputs": [],
   "source": [
    "import csv\n",
    "\n",
    "sessions = []\n",
    "with open('con_data/swacon_draft0_no15min_2015.csv', 'rU') as csvfile:\n",
    "    con_csv = csv.reader(csvfile)\n",
    "    next(con_csv) #Skip heading\n",
    "    sessions = [session(*row) for row in con_csv]\n",
    "\n",
    "sessions.sort(key=lambda ss: ss.start)\n",
    "\n"
   ]
  },
  {
   "cell_type": "code",
   "execution_count": 6,
   "metadata": {
    "collapsed": false
   },
   "outputs": [],
   "source": [
    "def write_descriptions(sessions, doc):\n",
    "    from pagelayout import Multicols\n",
    "    from itertools import groupby\n",
    "    with doc.create(Section('Program',numbering=False)):\n",
    "        with doc.create(Multicols(2)):\n",
    "            for day_name, day_session in groupby(sessions, lambda ss: ss.day):\n",
    "                with doc.create(Subsection(day_name,numbering=False)):\n",
    "                    for session in day_session:\n",
    "                        with doc.create(Subsubsection(session.title,numbering=False)):\n",
    "                            with doc.create(Description()) as desc:\n",
    "                                doc.append('\\setlength{\\itemsep}{0pt}')\n",
    "                                doc.append('\\setlength{\\parsep}{0pt}')\n",
    "                                doc.append('\\setlength{\\parskip}{0pt}')\n",
    "                                desc.additem(\"Time:\", session.start_time+\" -- \"+session.end_time)\n",
    "\n",
    "                                if len(session.venues)>0:\n",
    "                                    desc.additem(\"Venue:\", \", \".join(session.venues))\n",
    "                                if len(session.people)>0:\n",
    "                                    desc.additem(\"People:\", \", \".join(session.people))\n",
    "                                if len(session.tags)>0:\n",
    "                                    desc.additem(\"Tags:\", \", \".join(session.tags))\n",
    "                            doc.append(session.description)"
   ]
  },
  {
   "cell_type": "code",
   "execution_count": null,
   "metadata": {
    "collapsed": true
   },
   "outputs": [],
   "source": []
  },
  {
   "cell_type": "code",
   "execution_count": 5,
   "metadata": {
    "collapsed": false
   },
   "outputs": [
    {
     "ename": "NameError",
     "evalue": "name 'Multicols' is not defined",
     "output_type": "error",
     "traceback": [
      "\u001b[1;31m---------------------------------------------------------------------------\u001b[0m",
      "\u001b[1;31mNameError\u001b[0m                                 Traceback (most recent call last)",
      "\u001b[1;32m<ipython-input-5-543622383c11>\u001b[0m in \u001b[0;36m<module>\u001b[1;34m()\u001b[0m\n\u001b[0;32m     12\u001b[0m \u001b[1;33m\u001b[0m\u001b[0m\n\u001b[0;32m     13\u001b[0m \u001b[0mwrite_timetable\u001b[0m\u001b[1;33m(\u001b[0m\u001b[0msessions\u001b[0m\u001b[1;33m,\u001b[0m\u001b[0mdoc\u001b[0m\u001b[1;33m,\u001b[0m \u001b[0mSLOT_LENGTH_MINUTES\u001b[0m\u001b[1;33m)\u001b[0m\u001b[1;33m\u001b[0m\u001b[0m\n\u001b[1;32m---> 14\u001b[1;33m \u001b[0mwrite_descriptions\u001b[0m\u001b[1;33m(\u001b[0m\u001b[0msessions\u001b[0m\u001b[1;33m,\u001b[0m\u001b[0mdoc\u001b[0m\u001b[1;33m)\u001b[0m\u001b[1;33m\u001b[0m\u001b[0m\n\u001b[0m",
      "\u001b[1;32m<ipython-input-4-f6e9a8ea3495>\u001b[0m in \u001b[0;36mwrite_descriptions\u001b[1;34m(sessions, doc)\u001b[0m\n\u001b[0;32m      2\u001b[0m     \u001b[1;32mfrom\u001b[0m \u001b[0mitertools\u001b[0m \u001b[1;32mimport\u001b[0m \u001b[0mgroupby\u001b[0m\u001b[1;33m\u001b[0m\u001b[0m\n\u001b[0;32m      3\u001b[0m     \u001b[1;32mwith\u001b[0m \u001b[0mdoc\u001b[0m\u001b[1;33m.\u001b[0m\u001b[0mcreate\u001b[0m\u001b[1;33m(\u001b[0m\u001b[0mSection\u001b[0m\u001b[1;33m(\u001b[0m\u001b[1;34m'Program'\u001b[0m\u001b[1;33m,\u001b[0m\u001b[0mnumbering\u001b[0m\u001b[1;33m=\u001b[0m\u001b[1;32mFalse\u001b[0m\u001b[1;33m)\u001b[0m\u001b[1;33m)\u001b[0m\u001b[1;33m:\u001b[0m\u001b[1;33m\u001b[0m\u001b[0m\n\u001b[1;32m----> 4\u001b[1;33m         \u001b[1;32mwith\u001b[0m \u001b[0mdoc\u001b[0m\u001b[1;33m.\u001b[0m\u001b[0mcreate\u001b[0m\u001b[1;33m(\u001b[0m\u001b[0mMulticols\u001b[0m\u001b[1;33m(\u001b[0m\u001b[1;36m2\u001b[0m\u001b[1;33m)\u001b[0m\u001b[1;33m)\u001b[0m\u001b[1;33m:\u001b[0m\u001b[1;33m\u001b[0m\u001b[0m\n\u001b[0m\u001b[0;32m      5\u001b[0m             \u001b[1;32mfor\u001b[0m \u001b[0mday_name\u001b[0m\u001b[1;33m,\u001b[0m \u001b[0mday_session\u001b[0m \u001b[1;32min\u001b[0m \u001b[0mgroupby\u001b[0m\u001b[1;33m(\u001b[0m\u001b[0msessions\u001b[0m\u001b[1;33m,\u001b[0m \u001b[1;32mlambda\u001b[0m \u001b[0mss\u001b[0m\u001b[1;33m:\u001b[0m \u001b[0mss\u001b[0m\u001b[1;33m.\u001b[0m\u001b[0mday\u001b[0m\u001b[1;33m)\u001b[0m\u001b[1;33m:\u001b[0m\u001b[1;33m\u001b[0m\u001b[0m\n\u001b[0;32m      6\u001b[0m                 \u001b[1;32mwith\u001b[0m \u001b[0mdoc\u001b[0m\u001b[1;33m.\u001b[0m\u001b[0mcreate\u001b[0m\u001b[1;33m(\u001b[0m\u001b[0mSubsection\u001b[0m\u001b[1;33m(\u001b[0m\u001b[0mday_name\u001b[0m\u001b[1;33m,\u001b[0m\u001b[0mnumbering\u001b[0m\u001b[1;33m=\u001b[0m\u001b[1;32mFalse\u001b[0m\u001b[1;33m)\u001b[0m\u001b[1;33m)\u001b[0m\u001b[1;33m:\u001b[0m\u001b[1;33m\u001b[0m\u001b[0m\n",
      "\u001b[1;31mNameError\u001b[0m: name 'Multicols' is not defined"
     ]
    }
   ],
   "source": [
    "import pylatex\n",
    "from pylatex import Document, Section, Subsection, Subsubsection, Table, Package\n",
    "from pylatex.command import Command\n",
    "from lists import Description\n",
    "\n",
    "from tabulartimetable import write_timetable\n",
    "\n",
    "\n",
    "doc = Document(documentclass=\"scrreprt\")\n",
    "doc.packages.append(Package('geometry', options=['tmargin=1cm','bmargin=1cm',\n",
    "                                                 'lmargin=1cm','rmargin=1cm',]))\n",
    "\n",
    "write_timetable(sessions,doc, SLOT_LENGTH_MINUTES)\n",
    "write_descriptions(sessions,doc)\n"
   ]
  },
  {
   "cell_type": "code",
   "execution_count": null,
   "metadata": {
    "collapsed": false,
    "scrolled": true
   },
   "outputs": [],
   "source": [
    "from IPython.display import FileLink, FileLinks\n",
    "with open(\"out/temp.tex\", 'w') as temp_out:\n",
    "    doc.dump(temp_out)\n",
    "\n",
    "!lualatex --output-directory=out --interaction=nonstopmode temp.tex\n",
    "FileLinks(\"./out\")"
   ]
  },
  {
   "cell_type": "code",
   "execution_count": null,
   "metadata": {
    "collapsed": false
   },
   "outputs": [],
   "source": [
    "FileLinks(\"./out\")"
   ]
  },
  {
   "cell_type": "code",
   "execution_count": null,
   "metadata": {
    "collapsed": true
   },
   "outputs": [],
   "source": []
  }
 ],
 "metadata": {
  "kernelspec": {
   "display_name": "Python 3",
   "language": "python",
   "name": "python3"
  },
  "language_info": {
   "codemirror_mode": {
    "name": "ipython",
    "version": 3
   },
   "file_extension": ".py",
   "mimetype": "text/x-python",
   "name": "python",
   "nbconvert_exporter": "python",
   "pygments_lexer": "ipython3",
   "version": "3.4.3"
  }
 },
 "nbformat": 4,
 "nbformat_minor": 0
}
