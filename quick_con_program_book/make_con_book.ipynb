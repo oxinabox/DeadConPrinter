{
 "metadata": {
  "name": "",
  "signature": "sha256:48cdc0f9a0f816344a6785bf6808d7779e4e9d721d3356ab9e3c6d066c9aa8d4"
 },
 "nbformat": 3,
 "nbformat_minor": 0,
 "worksheets": [
  {
   "cells": [
    {
     "cell_type": "code",
     "collapsed": false,
     "input": [
      "!ls con_data "
     ],
     "language": "python",
     "metadata": {},
     "outputs": [
      {
       "output_type": "stream",
       "stream": "stdout",
       "text": [
        "swancon_2009.csv  swancon_2012.csv  swancon_2014.csv\r\n",
        "swancon_2010.csv  swancon_2013.csv\r\n"
       ]
      }
     ],
     "prompt_number": 1
    },
    {
     "cell_type": "code",
     "collapsed": false,
     "input": [],
     "language": "python",
     "metadata": {},
     "outputs": [],
     "prompt_number": 1
    },
    {
     "cell_type": "code",
     "collapsed": false,
     "input": [
      "import pylatex\n",
      "from pylatex import Document, Section, Subsection, Subsubsection\n",
      "from lists import Description\n",
      "\n",
      "import dateutil\n"
     ],
     "language": "python",
     "metadata": {},
     "outputs": [],
     "prompt_number": 12
    },
    {
     "cell_type": "code",
     "collapsed": false,
     "input": [
      "a=\"a\"\n",
      "a"
     ],
     "language": "python",
     "metadata": {},
     "outputs": [
      {
       "metadata": {},
       "output_type": "pyout",
       "prompt_number": 26,
       "text": [
        "'a'"
       ]
      }
     ],
     "prompt_number": 26
    },
    {
     "cell_type": "code",
     "collapsed": false,
     "input": [
      "bool()"
     ],
     "language": "python",
     "metadata": {},
     "outputs": [
      {
       "metadata": {},
       "output_type": "pyout",
       "prompt_number": 33,
       "text": [
        "True"
       ]
      }
     ],
     "prompt_number": 33
    },
    {
     "cell_type": "code",
     "collapsed": false,
     "input": [
      "def normalise(rawstr): \n",
      "    import unicodedata\n",
      "    import pylatex.utils\n",
      "    \n",
      "    strcoded =  unicodedata.normalize('NFKD', rawstr.decode('unicode-escape')).encode('ascii','ignore')\n",
      "                #HACK: this needs to be fixed by making the whole code actually deal with unicode\n",
      "    str_escaped = str(pylatex.utils.escape_latex(strcoded))\n",
      "    return str_escaped.strip()\n",
      "    \n",
      "\n",
      "def load_list(csl):\n",
      "    ldlst =  str.split(normalise(csl), ', ')\n",
      "    if ldlst==['']:\n",
      "        return []\n",
      "    else:\n",
      "        return ldlst\n",
      "\n",
      "class session (object):\n",
      "    def __init__(self, id,\n",
      "                 start_time_str,end_time_str,\n",
      "                 title,tags_str,people_str,\n",
      "                 venues_str,description):\n",
      "        self.id = int(id)\n",
      "        self.start = dateutil.parser.parse(start_time_str)\n",
      "        self.end = dateutil.parser.parse(end_time_str)\n",
      "        self.title = normalise(title)\n",
      "        self.tags = load_list(tags_str)\n",
      "        self.people = load_list(people_str)\n",
      "        self.venues = load_list(venues_str)\n",
      "        self.description = normalise(description)\n",
      "    \n",
      "    @property\n",
      "    def day(self):\n",
      "        week   = ['Sunday', \n",
      "                  'Monday', \n",
      "                  'Tuesday', \n",
      "                  'Wednesday', \n",
      "                  'Thursday',  \n",
      "                  'Friday', \n",
      "                  'Saturday']\n",
      "        daynum = self.start.weekday()\n",
      "        return week[daynum]\n",
      "    \n",
      "    @property\n",
      "    def start_time(self):\n",
      "        return self.start.strftime(\"%l:%M%p\")\n",
      "    \n",
      "    @property\n",
      "    def end_time(self):\n",
      "        return self.end.strftime(\"%l:%M%p\")\n",
      "    \n"
     ],
     "language": "python",
     "metadata": {},
     "outputs": [],
     "prompt_number": 34
    },
    {
     "cell_type": "code",
     "collapsed": false,
     "input": [
      "import csv\n",
      "\n",
      "sessions = []\n",
      "with open('con_data/swancon_2014.csv', 'rb') as csvfile:\n",
      "    con_csv = csv.reader(csvfile)\n",
      "    con_csv.next() #Skip heading\n",
      "    sessions = [session(*row) for row in con_csv]\n",
      "\n",
      "sessions.sort(key=lambda ss: ss.start)"
     ],
     "language": "python",
     "metadata": {},
     "outputs": [],
     "prompt_number": 35
    },
    {
     "cell_type": "code",
     "collapsed": false,
     "input": [
      "from itertools import groupby\n",
      "doc = Document()\n",
      "\n",
      "with doc.create(Section('Program')):\n",
      "    for day_name, day_session in groupby(sessions, lambda ss: ss.day):\n",
      "        with doc.create(Subsection(day_name)):\n",
      "            for session in day_session:\n",
      "                with doc.create(Subsubsection(session.title)):\n",
      "                    with doc.create(Description()) as desc:\n",
      "                        desc.additem(\"Time:\", session.start_time+\" -- \"+session.end_time)\n",
      "                        \n",
      "                        if len(session.venues)>0:\n",
      "                            desc.additem(\"Venue:\", \", \".join(session.venues))\n",
      "                        if len(session.people)>0:\n",
      "                            desc.additem(\"People:\", \", \".join(session.people))\n",
      "                        if len(session.tags)>0:\n",
      "                            desc.additem(\"Tags:\", \", \".join(session.tags))\n",
      "                        \n",
      "                        \n"
     ],
     "language": "python",
     "metadata": {},
     "outputs": [],
     "prompt_number": 58
    },
    {
     "cell_type": "code",
     "collapsed": false,
     "input": [
      "from IPython.display import FileLink, FileLinks\n",
      "with open(\"out/temp.tex\", 'w') as temp_out:\n",
      "    doc.dump(temp_out)\n",
      "\n",
      "!lualatex --output-directory=out temp.tex\n",
      "FileLinks(\"./out\")"
     ],
     "language": "python",
     "metadata": {},
     "outputs": [
      {
       "output_type": "stream",
       "stream": "stdout",
       "text": [
        "This is LuaTeX, Version beta-0.70.2-2012070300 (TeX Live 2012/Debian)\r\n",
        " restricted \\write18 enabled.\r\n"
       ]
      },
      {
       "output_type": "stream",
       "stream": "stdout",
       "text": [
        "(./out/temp.tex\r\n",
        "LaTeX2e <2011/06/27>\r\n",
        "LuaTeX adaptation of babel <v3.8m-luatex-1.5> and hyphenation patterns for engl\r\n",
        "ish, dumylang, nohyphenation, ethiopic, farsi, arabic, pinyin, croatian, bulgar\r\n",
        "ian, ukrainian, russian, slovak, czech, danish, dutch, usenglishmax, ukenglish,\r\n",
        " finnish, french, basque, ngerman, german, swissgerman, ngerman-x-2012-05-30, g\r\n",
        "erman-x-2012-05-30, monogreek, greek, ibycus, ancientgreek, hungarian, bengali,\r\n",
        " tamil, hindi, telugu, gujarati, sanskrit, malayalam, kannada, assamese, marath\r\n",
        "i, oriya, panjabi, italian, latin, latvian, lithuanian, mongolian, mongolianlmc\r\n",
        ", nynorsk, bokmal, indonesian, esperanto, coptic, welsh, irish, interlingua, se\r\n",
        "rbian, serbianc, slovenian, friulan, romansh, estonian, romanian, armenian, upp\r\n",
        "ersorbian, turkish, afrikaans, icelandic, kurmanji, polish, portuguese, galicia\r\n",
        "n, catalan, spanish, swedish, thai, loaded.\r\n",
        "(/usr/share/texlive/texmf-dist/tex/latex/base/article.cls\r\n",
        "Document Class: article 2007/10/19 v1.4h Standard LaTeX document class\r\n",
        "(/usr/share/texlive/texmf-dist/tex/latex/base/size10.clo"
       ]
      },
      {
       "output_type": "stream",
       "stream": "stdout",
       "text": [
        "))\r\n",
        "(/usr/share/texlive/texmf-dist/tex/latex/base/fontenc.sty\r\n",
        "(/usr/share/texlive/texmf-dist/tex/latex/base/t1enc.def))\r\n",
        "(/usr/share/texlive/texmf-dist/tex/latex/base/inputenc.sty\r\n",
        "(/usr/share/texlive/texmf-dist/tex/latex/base/utf8.def\r\n",
        "(/usr/share/texlive/texmf-dist/tex/latex/base/t1enc.dfu)\r\n",
        "(/usr/share/texlive/texmf-dist/tex/latex/base/ot1enc.dfu)\r\n",
        "(/usr/share/texlive/texmf-dist/tex/latex/base/omsenc.dfu)))\r\n",
        "(/usr/share/texmf/tex/latex/lm/lmodern.sty) (./out/temp.aux)\r\n",
        "(/usr/share/texmf/tex/latex/lm/t1lmr.fd) [1{/var/lib/texmf/fonts/map/pdftex/upd\r\n",
        "map/pdftex.map}]\r\n",
        "Overfull \\hbox (2.66739pt too wide) in paragraph at lines 37--38\r\n",
        "\\T1/lmr/m/n/10 s-ley, Damian Magee, Heather Magee, Tim Mc-Dougall, Sarah Parker\r\n",
        ", Elaine\r\n",
        "[2]"
       ]
      },
      {
       "output_type": "stream",
       "stream": "stdout",
       "text": [
        " [3] [4] [5] [6] [7] [8] [9] [10] [11] [12] [13] [14] [15] [16] [17]\r\n",
        "[18]"
       ]
      },
      {
       "output_type": "stream",
       "stream": "stdout",
       "text": [
        " [19] [20] [21] [22]\r\n",
        "Overfull \\hbox (1.74797pt too wide) in paragraph at lines 570--570\r\n",
        "[][]\\T1/lmr/m/n/10 PRK , Jack Bridges, Doug Bur-bidge, Dave Cake, Chris Co-man,\r\n",
        " Samara\r\n",
        "[23] [24] [25] [26] [27] [28] [29] [30] [31] [32] [33] [34]"
       ]
      },
      {
       "output_type": "stream",
       "stream": "stdout",
       "text": [
        " (./out/temp.aux) )\r\n",
        "(see the transcript file for additional information)\r\n",
        " 267 words of node memory still in use:\r\n",
        "   2 hlist, 1 vlist, 1 rule, 2 glue, 41 glue_spec, 1 write nodes\r\n",
        "   avail lists: 1:1,2:14,3:96,4:684,5:270,6:1055,7:5,9:88,10:66\r\n",
        "{/usr/share/texmf/fonts/enc/dvips/lm/lm-ec.enc}</usr/share/texmf/fonts/type1/pu\r\n",
        "blic/lm/lmbx10.pfb></usr/share/texmf/fonts/type1/public/lm/lmbx12.pfb></usr/sha\r\n",
        "re/texmf/fonts/type1/public/lm/lmr10.pfb>\r\n",
        "Output written on temp.pdf (34 pages, 129055 bytes).\r\n",
        "Transcript written on temp.log.\r\n"
       ]
      },
      {
       "html": [
        "./out/<br>\n",
        "&nbsp;&nbsp;<a href='files/./out/temp.log' target='_blank'>temp.log</a><br>\n",
        "&nbsp;&nbsp;<a href='files/./out/temp.tex' target='_blank'>temp.tex</a><br>\n",
        "&nbsp;&nbsp;<a href='files/./out/temp.aux' target='_blank'>temp.aux</a><br>\n",
        "&nbsp;&nbsp;<a href='files/./out/temp.pdf' target='_blank'>temp.pdf</a><br>"
       ],
       "metadata": {},
       "output_type": "pyout",
       "prompt_number": 59,
       "text": [
        "./out/\n",
        "  temp.log\n",
        "  temp.tex\n",
        "  temp.aux\n",
        "  temp.pdf"
       ]
      }
     ],
     "prompt_number": 59
    },
    {
     "cell_type": "code",
     "collapsed": false,
     "input": [],
     "language": "python",
     "metadata": {},
     "outputs": [],
     "prompt_number": 23
    },
    {
     "cell_type": "code",
     "collapsed": false,
     "input": [],
     "language": "python",
     "metadata": {},
     "outputs": []
    }
   ],
   "metadata": {}
  }
 ]
}