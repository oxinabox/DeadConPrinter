{
 "cells": [
  {
   "cell_type": "markdown",
   "metadata": {},
   "source": [
    "#LiveCon Printer\n",
    "This is a proof of concept, to directly producting a Program book,\n",
    "out of the LiveCon CSV.\n"
   ]
  },
  {
   "cell_type": "code",
   "execution_count": null,
   "metadata": {
    "collapsed": true
   },
   "outputs": [],
   "source": []
  },
  {
   "cell_type": "code",
   "execution_count": 2,
   "metadata": {
    "collapsed": true
   },
   "outputs": [],
   "source": [
    "#CONFIG\n",
    "import pytz\n",
    "LOCAL_TIMEZONE = pytz.timezone(\"Australia/Perth\")\n",
    "SLOT_LENGTH_MINUTES = 30\n",
    "\n",
    "DAYS = ['Sunday', \n",
    "          'Monday', \n",
    "          'Tuesday', \n",
    "          'Wednesday', \n",
    "          'Thursday',  \n",
    "          'Friday', \n",
    "          'Saturday']"
   ]
  },
  {
   "cell_type": "code",
   "execution_count": 72,
   "metadata": {
    "collapsed": false
   },
   "outputs": [],
   "source": [
    "def normalise(string): \n",
    "    import unicodedata\n",
    "    import pylatex.utils\n",
    "    import re\n",
    "    string = string.replace(\"\\r\",'')\n",
    "    string = str(pylatex.utils.escape_latex(string))\n",
    "    #string = re.sub(r'(\\\\\\\\)+','', string )\n",
    "    return string.strip()\n",
    "    \n",
    "\n",
    "def load_list(csl):\n",
    "    ldlst =  str.split(normalise(csl), ', ')\n",
    "    if ldlst==['']:\n",
    "        return []\n",
    "    else:\n",
    "        return ldlst\n",
    "    \n",
    "def parse_datetime(datetime_str):\n",
    "    import dateutil.parser\n",
    "    \n",
    "    raw = dateutil.parser.parse(datetime_str)\n",
    "    return raw.astimezone(LOCAL_TIMEZONE)\n",
    "\n",
    "\n",
    "class session (object):\n",
    "    def __init__(self, id,\n",
    "                 start_time_str,end_time_str,\n",
    "                 title,tags_str,people_str,\n",
    "                 venues_str,description):\n",
    "        self.id = int(id)\n",
    "        self.start = parse_datetime(start_time_str)\n",
    "        self.end = parse_datetime(end_time_str)\n",
    "        self.title = normalise(title)\n",
    "        self.tags = load_list(tags_str)\n",
    "        self.people = load_list(people_str)\n",
    "        self.venues = load_list(venues_str)\n",
    "        self.description = normalise(description)\n",
    "    \n",
    "    @property\n",
    "    def day(self):\n",
    "        week_days   = DAYS\n",
    "        daynum = self.start.weekday()\n",
    "        return week_days[daynum]\n",
    "    \n",
    "    \n",
    "    @property\n",
    "    def start_time(self):\n",
    "        return self.start.strftime(\"%H:%M\")\n",
    "    \n",
    "    @property\n",
    "    def end_time(self):\n",
    "        return self.end.strftime(\"%H:%M\")\n",
    "    \n",
    "    @property\n",
    "    def duration(self):\n",
    "        return self.end - self.start\n",
    "    "
   ]
  },
  {
   "cell_type": "code",
   "execution_count": 73,
   "metadata": {
    "collapsed": false
   },
   "outputs": [],
   "source": [
    "def write_descriptions(sessions, doc):\n",
    "    from pagelayout import Multicols\n",
    "    from itertools import groupby\n",
    "    with doc.create(Section('Program',numbering=False)):\n",
    "        with doc.create(Multicols(2)):\n",
    "            for day_name, day_session in groupby(sessions, lambda ss: ss.day):\n",
    "                with doc.create(Subsection(day_name,numbering=False)):\n",
    "                    for session in day_session:\n",
    "                        with doc.create(Subsubsection(session.title,numbering=False)):\n",
    "                            with doc.create(Description()) as desc:\n",
    "                                doc.append('\\setlength{\\itemsep}{0pt}')\n",
    "                                doc.append('\\setlength{\\parsep}{0pt}')\n",
    "                                doc.append('\\setlength{\\parskip}{0pt}')\n",
    "                                desc.additem(\"Time:\", session.start_time+\" -- \"+session.end_time)\n",
    "\n",
    "                                if len(session.venues)>0:\n",
    "                                    desc.additem(\"Venue:\", \", \".join(session.venues))\n",
    "                                if len(session.people)>0:\n",
    "                                    desc.additem(\"People:\", \", \".join(session.people))\n",
    "                                if len(session.tags)>0:\n",
    "                                    desc.additem(\"Tags:\", \", \".join(session.tags))\n",
    "                            doc.append(session.description)"
   ]
  },
  {
   "cell_type": "code",
   "execution_count": 74,
   "metadata": {
    "collapsed": false
   },
   "outputs": [],
   "source": [
    "from pylatex.base_classes import *\n",
    "from pylatex.parameters import Arguments\n",
    "class FixedTextbox(BaseLaTeXClass):#HACK: This should prob not be done by raw text dumping the whole thing...\n",
    "    def __init__(self,text, hpos,vpos, height,width):\n",
    "        self.text=text\n",
    "        self.hpos=hpos\n",
    "        self.vpos=vpos\n",
    "        self.height=height\n",
    "        self.width=width\n",
    "        \n",
    "        packages = [Package('textpos', options='absolute'), Package('tcolorbox', options='fitting')]\n",
    "        BaseLaTeXClass.__init__(self,packages)\n",
    "    \n",
    "    def dumps(self): \n",
    "        return \"\"\"\n",
    "\\\\begin{textblock*}{%(width)s}(%(hpos)s, %(vpos)s)\n",
    "    \\\\tcboxfit[height=%(height)s]{%(text)s}\n",
    "\\\\end{textblock*}\n",
    "        \"\"\" % self.__dict__\n",
    "    \n",
    "class TextcolorboxStyle(BaseLaTeXClass):\n",
    "    def __init__(self, *args, **kwargs):\n",
    "        self.args = args\n",
    "        self.kwargs= kwargs\n",
    "        packages = [Package('tcolorbox', options='fitting')]\n",
    "        BaseLaTeXClass.__init__(self, packages=packages)\n",
    "\n",
    "    def dumps(self): \n",
    "        def express_arguments(args,kwargs):\n",
    "            args_strs = list(map(str,args))\n",
    "            kwargs_strs = [\"%s=%s\" % (k,v) for (k,v) in kwargs.items()]\n",
    "            return \",\".join(args_strs + kwargs_strs)\n",
    "        return \"\\\\tcbset{%s}\" % express_arguments(self.args, self.kwargs)\n",
    "\n",
    "def textpos_origin(x,y):\n",
    "    return Command('textblockorigin',arguments=[x,y])"
   ]
  },
  {
   "cell_type": "code",
   "execution_count": 75,
   "metadata": {
    "collapsed": false
   },
   "outputs": [],
   "source": [
    "def with_units(func):\n",
    "    def wrapper(*args, **kwargs):\n",
    "        units = args[0].units #Assumes that this is decorating a method on a class with a units field\n",
    "        result = func(*args, **kwargs)\n",
    "        return str(result)+units\n",
    "    return wrapper\n",
    "    \n",
    "class timetable_metric_solver():\n",
    "    def __init__(self,sessions, hour_len, venue_width, units, voffset=0):\n",
    "        \n",
    "        from venueordering import get_order_from_sessions\n",
    "        self.voffset = voffset\n",
    "        self.hour_len = hour_len\n",
    "        self.venue_width = venue_width\n",
    "        self.units = units\n",
    "        self.venues_to_x = { name:ii*venue_width\n",
    "                                for ii, name in enumerate(get_order_from_sessions(sessions))}\n",
    "        \n",
    "        from itertools import groupby\n",
    "        self.day_starts = {date:min(map(lambda ss: ss.start, sessions))\n",
    "                                for date, sessions in groupby(sessions, lambda ss: ss.start.date())}\n",
    "    \n",
    "    @with_units\n",
    "    def get_width(self,session):\n",
    "        if session.venues:\n",
    "            return len(session.venues)*self.venue_width    \n",
    "        else:\n",
    "            nVenues = len(self.venues_to_x.keys())\n",
    "            return nVenues*self.venue_width    \n",
    "    \n",
    "    @with_units\n",
    "    def get_venue_x(self,venue):\n",
    "        return self.venues_to_x[venue]\n",
    "    \n",
    "    @with_units\n",
    "    def get_x(self, session):\n",
    "        #Get the left most venue position\n",
    "        if session.venues:\n",
    "            return min(map(lambda vv: self.venues_to_x[vv],session.venues))\n",
    "        else:\n",
    "            return 0 # fills all Venues, starting from left\n",
    "            \n",
    "    \n",
    "    def duration_to_height(self,duration):\n",
    "        return duration.seconds/(60*60)*self.hour_len\n",
    "    \n",
    "    @with_units\n",
    "    def get_y(self, session):\n",
    "        day_start = self.day_starts[session.start.date()]\n",
    "        time_til_start = session.start - day_start\n",
    "        return self.voffset + self.duration_to_height(time_til_start)\n",
    "    \n",
    "    @with_units\n",
    "    def get_height(self,session):\n",
    "        return self.duration_to_height(session.duration)\n",
    "    \n",
    "    @with_units\n",
    "    def get_venue_width(self):\n",
    "        return self.venue_width\n",
    "    \n",
    "    @property\n",
    "    def venues(self):\n",
    "        return list(self.venues_to_x.keys())\n",
    "    \n",
    "    "
   ]
  },
  {
   "cell_type": "code",
   "execution_count": 76,
   "metadata": {
    "collapsed": false,
    "scrolled": true
   },
   "outputs": [],
   "source": [
    "def make_pretty_timetable(doc,sessions):\n",
    "    from pylatex.utils import escape_latex\n",
    "    from itertools import groupby\n",
    "    tt_solver = timetable_metric_solver(sessions,1.5,2,'cm', 1.5)\n",
    "\n",
    "    \n",
    "    for date, day_sessions in groupby(sessions, lambda ss: ss.start.date()):\n",
    "        with doc.create(Subsection(str(DAYS[date.weekday()]), numbering=False)):\n",
    "            doc.append('\\n')\n",
    "            doc.append(textpos_origin('2cm','5cm'))\n",
    "            \n",
    "            doc.append(TextcolorboxStyle('fit algorithm=hybrid*','center upper', valign='center',\n",
    "                                 colframe='blue!50!black',colback='blue!10!white',\n",
    "                                 boxsep='0pt',top='0mm',bottom='0mm',left='0mm',right='0mm'))\n",
    "            \n",
    "            for venue in tt_solver.venues:\n",
    "                doc.append(FixedTextbox(venue,\n",
    "                                        tt_solver.get_venue_x(venue),\n",
    "                                        '0cm', \n",
    "                                        '1.5cm',\n",
    "                                        tt_solver.get_venue_width()))\n",
    "                \n",
    "            doc.append(TextcolorboxStyle('fit algorithm=hybrid*','center upper', valign='center',\n",
    "                                 colframe='blue!50!black',colback='red!10!white',\n",
    "                                 boxsep='0pt',top='0mm',bottom='0mm',left='0mm',right='0mm'))\n",
    "            \n",
    "            for session in day_sessions:\n",
    "                doc.append(FixedTextbox('%s \\\\\\\\ %s -- %s ' % (session.title, session.start_time, session.end_time),\n",
    "                                        tt_solver.get_x(session),\n",
    "                                        tt_solver.get_y(session), \n",
    "                                        tt_solver.get_height(session),\n",
    "                                        tt_solver.get_width(session)))\n",
    "\n",
    "            doc.append(Command('newpage'))\n",
    "\n"
   ]
  },
  {
   "cell_type": "code",
   "execution_count": 77,
   "metadata": {
    "collapsed": false
   },
   "outputs": [],
   "source": [
    "import csv\n",
    "\n",
    "sessions = []\n",
    "with open('con_data/sc2015_d02.csv', 'rU') as csvfile:\n",
    "    con_csv = csv.reader(csvfile)\n",
    "    next(con_csv) #Skip heading\n",
    "    sessions = [session(*row) for row in con_csv]\n",
    "\n",
    "sessions.sort(key=lambda ss: ss.start)\n",
    "\n"
   ]
  },
  {
   "cell_type": "code",
   "execution_count": 78,
   "metadata": {
    "collapsed": false
   },
   "outputs": [
    {
     "data": {
      "text/html": [
       "./out/<br>\n",
       "&nbsp;&nbsp;<a href='./out/temp.log' target='_blank'>temp.log</a><br>\n",
       "&nbsp;&nbsp;<a href='./out/temp.tex' target='_blank'>temp.tex</a><br>\n",
       "&nbsp;&nbsp;<a href='./out/temp.aux' target='_blank'>temp.aux</a><br>\n",
       "&nbsp;&nbsp;<a href='./out/temp.pdf' target='_blank'>temp.pdf</a><br>"
      ],
      "text/plain": [
       "./out/\n",
       "  temp.log\n",
       "  temp.tex\n",
       "  temp.aux\n",
       "  temp.pdf"
      ]
     },
     "execution_count": 78,
     "metadata": {},
     "output_type": "execute_result"
    }
   ],
   "source": [
    "import pylatex\n",
    "from pylatex import Document, Section, Subsection, Subsubsection, Table, Package\n",
    "from pylatex.command import Command\n",
    "from lists import Description\n",
    "\n",
    "from tabulartimetable import write_timetable\n",
    "\n",
    "\n",
    "doc = Document(documentclass=\"scrreprt\")\n",
    "doc.packages.append(Package('geometry', options=['tmargin=1cm','bmargin=1cm',\n",
    "                                                 'lmargin=1cm','rmargin=1cm',]))\n",
    "\n",
    "#make_pretty_timetable(doc,sessions)\n",
    "write_descriptions(sessions,doc)\n",
    "\n",
    "from IPython.display import FileLink, FileLinks\n",
    "with open(\"out/temp.tex\", 'w') as temp_out:\n",
    "    doc.dump(temp_out)\n",
    "\n",
    "#!lualatex --output-directory=out --interaction=nonstopmode temp.tex\n",
    "FileLinks(\"./out\")\n"
   ]
  },
  {
   "cell_type": "code",
   "execution_count": null,
   "metadata": {
    "collapsed": true
   },
   "outputs": [],
   "source": []
  },
  {
   "cell_type": "code",
   "execution_count": null,
   "metadata": {
    "collapsed": true
   },
   "outputs": [],
   "source": []
  }
 ],
 "metadata": {
  "kernelspec": {
   "display_name": "Python 3",
   "language": "python",
   "name": "python3"
  },
  "language_info": {
   "codemirror_mode": {
    "name": "ipython",
    "version": 3
   },
   "file_extension": ".py",
   "mimetype": "text/x-python",
   "name": "python",
   "nbconvert_exporter": "python",
   "pygments_lexer": "ipython3",
   "version": "3.4.3"
  }
 },
 "nbformat": 4,
 "nbformat_minor": 0
}
