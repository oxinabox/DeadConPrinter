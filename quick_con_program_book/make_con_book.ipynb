{
 "cells": [
  {
   "cell_type": "code",
   "execution_count": 1,
   "metadata": {
    "collapsed": false
   },
   "outputs": [],
   "source": [
    "class CanNotOrderAdjacentElements(Exception):\n",
    "    pass\n",
    "\n",
    "def is_consec(ordering, subset):\n",
    "    if len(subset)==0:\n",
    "        return True\n",
    "    \n",
    "    indexes = list(map(ordering.index, subset))\n",
    "    diff = max(indexes)-min(indexes)\n",
    "    return diff==len(subset)-1\n",
    "    \n",
    "def check_order(connecteds, ordering):\n",
    "    return all([is_consec(ordering,cc) for cc in connecteds])\n",
    "\n",
    "def get_order(connecteds):\n",
    "    from itertools import permutations\n",
    "    from functools import reduce\n",
    "    alphabet = reduce(set.union, connecteds, set())\n",
    "    for order in permutations(alphabet):\n",
    "        if check_order(connecteds,order):\n",
    "            return order\n",
    "    #Otherwise:\n",
    "    raise(CanNotOrderAdjacentElementsError())\n",
    "    "
   ]
  },
  {
   "cell_type": "code",
   "execution_count": 14,
   "metadata": {
    "collapsed": true
   },
   "outputs": [],
   "source": [
    "#CONFIG\n",
    "import pytz\n",
    "LOCAL_TIMEZONE = pytz.timezone(\"Australia/Perth\")\n",
    "SLOT_LENGTH_MINUTES = 30\n"
   ]
  },
  {
   "cell_type": "code",
   "execution_count": 5,
   "metadata": {
    "collapsed": false
   },
   "outputs": [],
   "source": [
    "def get_slots(start,end, exclusive_end=True, slot_length_minutes = SLOT_LENGTH_MINUTES):\n",
    "    from dateutil import rrule\n",
    "    until = end-timedelta(0,0,1) if exclusive_end else end\n",
    "    slots = rrule.rrule(rrule.MINUTELY, \n",
    "                          interval = slot_length_minutes,\n",
    "                          dtstart = start,\n",
    "                          until = until,\n",
    "                          )\n",
    "    return list(slots)\n",
    "    "
   ]
  },
  {
   "cell_type": "code",
   "execution_count": 22,
   "metadata": {
    "collapsed": false
   },
   "outputs": [],
   "source": [
    "def parse_datetime(datetime_str):\n",
    "    import dateutil.parser\n",
    "    \n",
    "    raw = dateutil.parser.parse(datetime_str)\n",
    "    return raw.astimezone(LOCAL_TIMEZONE)\n",
    "\n",
    "def normalise(string): \n",
    "    import unicodedata\n",
    "    import pylatex.utils\n",
    "\n",
    "    string = str(pylatex.utils.escape_latex(string))\n",
    "    return string.strip()\n",
    "    \n",
    "\n",
    "def load_list(csl):\n",
    "    ldlst =  str.split(normalise(csl), ', ')\n",
    "    if ldlst==['']:\n",
    "        return []\n",
    "    else:\n",
    "        return ldlst\n",
    "\n",
    "class session (object):\n",
    "    def __init__(self, id,\n",
    "                 start_time_str,end_time_str,\n",
    "                 title,tags_str,people_str,\n",
    "                 venues_str,description):\n",
    "        self.id = int(id)\n",
    "        self.start = parse_datetime(start_time_str)\n",
    "        self.end = parse_datetime(end_time_str)\n",
    "        self.title = normalise(title)\n",
    "        self.tags = load_list(tags_str)\n",
    "        self.people = load_list(people_str)\n",
    "        self.venues = load_list(venues_str)\n",
    "        self.description = normalise(description)\n",
    "    \n",
    "    @property\n",
    "    def day(self):\n",
    "        week_days   = ['Sunday', \n",
    "          'Monday', \n",
    "          'Tuesday', \n",
    "          'Wednesday', \n",
    "          'Thursday',  \n",
    "          'Friday', \n",
    "          'Saturday']\n",
    "        daynum = self.start.weekday()\n",
    "        return week_days[daynum]\n",
    "    \n",
    "    \n",
    "    @property\n",
    "    def start_time(self):\n",
    "        return self.start.strftime(\"%H:%M\")\n",
    "    \n",
    "    @property\n",
    "    def end_time(self):\n",
    "        return self.end.strftime(\"%H:%M\")\n",
    "    \n",
    "    @property\n",
    "    def timeslots(self, slot_length_minutes=SLOT_LENGTH_MINUTES):\n",
    "        return get_slots(self.start,self.end, slot_length_minutes)\n",
    "        \n",
    "            "
   ]
  },
  {
   "cell_type": "code",
   "execution_count": 16,
   "metadata": {
    "collapsed": false
   },
   "outputs": [],
   "source": [
    "import csv\n",
    "\n",
    "sessions = []\n",
    "with open('con_data/swancon_2014.csv', 'rU') as csvfile:\n",
    "    con_csv = csv.reader(csvfile)\n",
    "    next(con_csv) #Skip heading\n",
    "    sessions = [session(*row) for row in con_csv]\n",
    "\n",
    "sessions.sort(key=lambda ss: ss.start)\n",
    "\n"
   ]
  },
  {
   "cell_type": "code",
   "execution_count": 17,
   "metadata": {
    "collapsed": false
   },
   "outputs": [],
   "source": [
    "from collections import defaultdict\n",
    "from defaultordereddict import DefaultOrderedDict\n",
    "dtv_bookings = DefaultOrderedDict(lambda : defaultdict(lambda : defaultdict(str)))\n",
    "\n",
    "import random\n",
    "\n",
    "for session in sessions:\n",
    "    for venue in session.venues:\n",
    "        colorstring = \"\\cellcolor[gray]{%f} \" % (0.5+0.5*random.random()) #HACK\n",
    "        dtv_bookings[session.day][session.timeslots[0]][venue] = colorstring + session.title\n",
    "        for slot in session.timeslots[1:]:\n",
    "            dtv_bookings[session.day][slot][venue] =colorstring + \"...cont...\"\n"
   ]
  },
  {
   "cell_type": "code",
   "execution_count": 18,
   "metadata": {
    "collapsed": false
   },
   "outputs": [],
   "source": [
    "from pylatex.base_classes import BaseLaTeXNamedContainer\n",
    "\n",
    "class Landscape(BaseLaTeXNamedContainer):\n",
    "    def __init__(self, **kwargs):\n",
    "        BaseLaTeXNamedContainer.__init__(self, 'landscape', packages=[Package('pdflscape')],**kwargs)\n",
    "        \n",
    "    \n",
    "\n",
    "class Multicols(BaseLaTeXNamedContainer):\n",
    "    def __init__(self,number_of_columns=2, **kwargs):\n",
    "        argument=str(number_of_columns)\n",
    "        BaseLaTeXNamedContainer.__init__(self, 'multicols', argument=argument, packages=[Package('multicol')],**kwargs)\n",
    "        "
   ]
  },
  {
   "cell_type": "code",
   "execution_count": 19,
   "metadata": {
    "collapsed": false
   },
   "outputs": [],
   "source": [
    "class SessionOutOfSlotAlignmentError(Exception):\n",
    "    def __init__(self, slot, day):\n",
    "        self.slot=slot\n",
    "        self.day=day\n",
    "        "
   ]
  },
  {
   "cell_type": "code",
   "execution_count": null,
   "metadata": {
    "collapsed": false
   },
   "outputs": [],
   "source": [
    "import pylatex\n",
    "from pylatex import Document, Section, Subsection, Subsubsection, Table, Package\n",
    "from pylatex.command import Command\n",
    "from lists import Description\n",
    "\n",
    "\n",
    "venue_columns = list(get_order([session.venues for session in sessions]))\n",
    "slots = None\n",
    "doc = Document(documentclass=\"scrreprt\")\n",
    "doc.packages.append(Package('geometry', options=['tmargin=1cm','bmargin=1cm',\n",
    "                                                 'lmargin=1cm','rmargin=1cm',]))\n",
    "doc.packages.append(Package('xcolor', options=['table']))\n",
    "\n",
    "with doc.create(Landscape()):\n",
    "    with doc.create(Section('Timetable',numbering=False)):\n",
    "        for day in dtv_bookings.keys():\n",
    "            if len(dtv_bookings[day])>0:\n",
    "                with doc.create(Subsection(day)):\n",
    "                    table_spec = \"c||\"+\"p{25mm}|\"*len(venue_columns)\n",
    "                    doc.append(Command('scriptsize'))\n",
    "                    with doc.create(Table(table_spec)) as timetable:\n",
    "                        timetable.add_row([\"Time\"]+venue_columns)\n",
    "                        timetable.add_hline()\n",
    "                        timetable.add_hline()\n",
    "\n",
    "                        used_slots = set(dict.keys(dtv_bookings[day]))\n",
    "                        slots = get_slots(min(used_slots),max(used_slots), exclusive_end=False)\n",
    "\n",
    "                        for used_slot in used_slots:\n",
    "                            if not used_slot in slots:\n",
    "                                raise SessionOutOfSlotAlignmentError(used_slot,day)\n",
    "\n",
    "                        for slot in slots:\n",
    "                            venue_bookings = dtv_bookings[day][slot]\n",
    "                            venue_slots = [venue_bookings[vv] for vv in venue_columns]\n",
    "\n",
    "                            slot_time_str = slot.strftime(\"%H:%M\")\n",
    "                            timetable.add_row([slot_time_str] + venue_slots)\n",
    "\n",
    "from itertools import groupby\n",
    "with doc.create(Section('Program',numbering=False)):\n",
    "    with doc.create(Multicols(2)):\n",
    "        for day_name, day_session in groupby(sessions, lambda ss: ss.day):\n",
    "            with doc.create(Subsection(day_name,numbering=False)):\n",
    "                for session in day_session:\n",
    "                    with doc.create(Subsubsection(session.title,numbering=False)):\n",
    "                        with doc.create(Description()) as desc:\n",
    "                            doc.append('\\setlength{\\itemsep}{0pt}')\n",
    "                            desc.additem(\"Time:\", session.start_time+\" -- \"+session.end_time)\n",
    "\n",
    "                            if len(session.venues)>0:\n",
    "                                desc.additem(\"Venue:\", \", \".join(session.venues))\n",
    "                            if len(session.people)>0:\n",
    "                                desc.additem(\"People:\", \", \".join(session.people))\n",
    "                            if len(session.tags)>0:\n",
    "                                desc.additem(\"Tags:\", \", \".join(session.tags))\n",
    "                        doc.append(session.description)\n",
    "\n"
   ]
  },
  {
   "cell_type": "code",
   "execution_count": null,
   "metadata": {
    "collapsed": false,
    "scrolled": false
   },
   "outputs": [],
   "source": [
    "from IPython.display import FileLink, FileLinks\n",
    "with open(\"out/temp.tex\", 'w') as temp_out:\n",
    "    doc.dump(temp_out)\n",
    "\n",
    "!lualatex --output-directory=out temp.tex\n",
    "FileLinks(\"./out\")"
   ]
  },
  {
   "cell_type": "code",
   "execution_count": null,
   "metadata": {
    "collapsed": false
   },
   "outputs": [],
   "source": [
    "FileLinks(\"./out\")"
   ]
  },
  {
   "cell_type": "code",
   "execution_count": null,
   "metadata": {
    "collapsed": true
   },
   "outputs": [],
   "source": []
  },
  {
   "cell_type": "code",
   "execution_count": null,
   "metadata": {
    "collapsed": true
   },
   "outputs": [],
   "source": []
  }
 ],
 "metadata": {
  "kernelspec": {
   "display_name": "Python 3",
   "language": "python",
   "name": "python3"
  },
  "language_info": {
   "codemirror_mode": {
    "name": "ipython",
    "version": 3
   },
   "file_extension": ".py",
   "mimetype": "text/x-python",
   "name": "python",
   "nbconvert_exporter": "python",
   "pygments_lexer": "ipython3",
   "version": "3.4.3"
  }
 },
 "nbformat": 4,
 "nbformat_minor": 0
}
