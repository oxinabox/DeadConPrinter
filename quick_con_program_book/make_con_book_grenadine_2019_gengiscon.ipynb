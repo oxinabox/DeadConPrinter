{
 "cells": [
  {
   "cell_type": "code",
   "execution_count": 1,
   "metadata": {},
   "outputs": [],
   "source": [
    "from sessions import *\n",
    "from venueordering import *\n",
    "from pylatex_textboxes import *\n",
    "from formatting_solver import *"
   ]
  },
  {
   "cell_type": "code",
   "execution_count": 2,
   "metadata": {},
   "outputs": [],
   "source": [
    "import itertools as it\n",
    "import pandas as pd\n",
    "import datetime\n"
   ]
  },
  {
   "cell_type": "code",
   "execution_count": 36,
   "metadata": {},
   "outputs": [
    {
     "data": {
      "text/plain": [
       "Title                                                 PowerPoint Roulette\n",
       "Description             Otherwise known as \"Here is my 10 minute Power...\n",
       "Short Title                                                           NaN\n",
       "Format                                                       Presentation\n",
       "Duration                                                               30\n",
       "Day                                                              Saturday\n",
       "Time                                                                12:30\n",
       "Room                                                             Reynolds\n",
       "Venue                                                 St George’s College\n",
       "Tracks                                                                NaN\n",
       "Parent                                                                NaN\n",
       "Participants            Alexis Hemsley,Jonathan Durnford,Matt Woods,Al...\n",
       "Other Participants                                                    NaN\n",
       "Notes for Organizers                                                  NaN\n",
       "Notes for Speakers                                                    NaN\n",
       "Name: 12, dtype: object"
      ]
     },
     "execution_count": 36,
     "metadata": {},
     "output_type": "execute_result"
    }
   ],
   "source": [
    "df = pd.read_excel(\"con_data/items_01-02-2019.xlsx\", )\n",
    "df.loc[12,:]"
   ]
  },
  {
   "cell_type": "code",
   "execution_count": 37,
   "metadata": {},
   "outputs": [],
   "source": [
    "day2date = {\n",
    "    \"Saturday\":datetime.date(2019,1,12),\n",
    "    \"Sunday\":datetime.date(2019,1,13),\n",
    "}\n",
    "\n",
    "def load_grenadine_session(prog_item):\n",
    "    title = prog_item['Title']\n",
    "    print(title)\n",
    "    id = prog_item.name\n",
    "    \n",
    "    date = day2date[prog_item['Day']]\n",
    "    start_time = datetime.datetime.strptime(prog_item[\"Time\"], \"%H:%M\").time()\n",
    "\n",
    "    start = datetime.datetime.combine(date, start_time)\n",
    "    end = start + datetime.timedelta(minutes=int(prog_item[\"Duration\"]))\n",
    "    \n",
    "    people = prog_item[\"Participants\"]\n",
    "    \n",
    "    tags = prog_item[\"Tracks\"].split(\",\")\n",
    "    tags.append(prog_item[\"Format\"])\n",
    "    \n",
    "    if title==\"Lunch\" or title==\"Dinner\" or title==\"Breakfast\":\n",
    "        tags.append(\"Break\")\n",
    "            \n",
    "\n",
    "    venues = [prog_item['Room']]\n",
    "            \n",
    "    description = prog_item['Description']\n",
    "    return session(id, start, end, title, tags, people, venues, description)\n",
    "\n",
    "\n",
    "def fetch_sessions(path):\n",
    "    df = pd.read_excel(path,keep_default_na=False) #keep_default_na stops emptystring being converted to nan\n",
    "    return [load_grenadine_session(df.loc[ii,:]) \n",
    "            for ii in range(len(df))\n",
    "            if len(df.loc[ii,\"Day\"])>0 #must have Day set\n",
    "           ]\n"
   ]
  },
  {
   "cell_type": "code",
   "execution_count": 38,
   "metadata": {},
   "outputs": [],
   "source": [
    "def all_venues(sessions):\n",
    "    return set().union(*(ss.venues for ss in sessions))\n",
    "\n",
    "def replace_room_with_rooms(sessions, old, *news):\n",
    "    for sess in sessions:\n",
    "        if old in sess.venues:\n",
    "            #print(sess.title)\n",
    "            sess.venues.remove(old)\n",
    "            sess.venues.update(news)\n",
    "    \n",
    "    sessions\n",
    "    \n",
    "\n",
    "\"Find multiple copies of events for different rooms at the same time, and convert them to single events in spanning rooms\"\n",
    "def bridge_rooms(sessions):\n",
    "    bridged_sessions = []\n",
    "    \n",
    "    sessions.sort(key=lambda x: (x.start, x.end, x.title))\n",
    "    for _, matchs in it.groupby(sessions, lambda x: (x.start, x.end, x.title)):\n",
    "        matchs = list(matchs) #GoldPlate: this doesn't have to be done\n",
    "        head = matchs[0]\n",
    "        tail = matchs[1:]\n",
    "        for sess in tail:\n",
    "            head.venues.update(sess.venues)\n",
    "        bridged_sessions.append(head)\n",
    "        \n",
    "    \n",
    "    sessions[:]=bridged_sessions[:]\n",
    "    return sessions\n",
    "\n",
    "def fill_empty_room_slots(sessions):\n",
    "    venues = all_venues(sessions)\n",
    "    for ss in sessions:\n",
    "        if len(ss.venues)==0:\n",
    "            print(ss.title)\n",
    "            ss.venues = venues\n",
    "    sessions\n"
   ]
  },
  {
   "cell_type": "code",
   "execution_count": 39,
   "metadata": {},
   "outputs": [
    {
     "name": "stdout",
     "output_type": "stream",
     "text": [
      "Great Books You've Never Heard Of!\n",
      "Open Board Gaming\n",
      "Fluttering Souls - Session 1\n",
      "Future Spaces\n",
      "Nerf Wars!\n",
      "Open Videogaming\n",
      "The History of D&D's most famous and strange monsters\n",
      "D&D Adventure League - Session 1\n",
      "Ideas Clash Workshop\n",
      "Welcome to GenghisCon!\n",
      "Lunch\n",
      "Comics, make one today!\n",
      "PowerPoint Roulette\n",
      "D&D and tulpas - writing level 3 characters\n",
      "Future of Work – what will I be doing in 2030?\n",
      "Open Board Gaming\n",
      "Fluttering Souls - Session 2\n",
      "- The perils of writing/publishing vampires\n",
      "Future of Transport – how will we get around in 2050?\n",
      "D&D Adventure League - Session 2\n",
      "Feminism in SF and Fantasy\n",
      "Afternoon Tea with Grant Stone\n",
      "Fluttering Souls - Designing the Game\n",
      "- Doctor Who - The Clock Strikes 13\n",
      "Utopias: Real and Imagined\n",
      "Make your own LARP weapon!\n",
      "Rites of Passage: Role Models in TV\n",
      "Makers' Mutterings\n",
      "LARP Duel\n",
      "Dinner\n",
      "Rebel Empire Makeup\n",
      "Ask Me Anything! - Sexuality, Gender and Expression!\n",
      "I volunteer as tribute!\n",
      "Rebel Empire Performance\n",
      "Open Board Gaming\n",
      "The Dark Room\n",
      "Sky Talk\n",
      "Rock Band!\n",
      "Texas Hold'em Poker Tournament (18+)\n",
      "Johann Sebastian Joust\n",
      "Wrestling as Fandom\n",
      "Solving the world's problems one infinity gauntlet at a time\n",
      "Breakfast\n",
      "Open Board Gaming\n",
      "Why are we awake?\n",
      "Fluttering Souls Session 3\n",
      "Sustainable Transport and Energy\n",
      "Realistic Uses and Abuses of SuperPowers\n",
      "Masculinity in Games\n",
      "D&D Adventure League - Session 3\n",
      "House Darksun - Medieval Combat Demonstration\n",
      "Kamen Rider\n",
      "Making the MegaCorp RPG\n",
      "Lunch\n",
      "Countdown to Infinity\n",
      "Super Smash Bros Ultimate!\n",
      "Hack your Jeans\n",
      "Hannibal: Eat the Rude\n",
      "Rites of Passage: Sorting Hat Ceremony\n",
      "AGM and Election for GenghisCon 2020!\n",
      "Zelda: a Link to the Past Randomizer\n",
      "GenghisCon Auction\n",
      "VR Freeplay\n",
      "The Sorcerer Supreme RPG\n",
      "Closing Ceremony and packup\n",
      "Dinner\n",
      "Sequels Versus Remakes\n",
      "- Streaming 101\n",
      "JackBox Game Night!\n",
      "- Game Development on a Budget\n",
      "- Speaking Elvish 101\n"
     ]
    }
   ],
   "source": [
    "sessions = fetch_sessions(\"con_data/items_01-02-2019.xlsx\")"
   ]
  },
  {
   "cell_type": "code",
   "execution_count": 40,
   "metadata": {},
   "outputs": [],
   "source": [
    "# Remove sessions that are not really program items from the book's perspective\n",
    "#nonevent_rooms = set([\"Meeting Room 1\", 'Meetings on 5 foyer', 'Boardroom foyer'])\n",
    "#sessions = [sess for sess in sessions \n",
    "#            if sess.venues==set() or sess.venues-nonevent_rooms != set()]"
   ]
  },
  {
   "cell_type": "code",
   "execution_count": 41,
   "metadata": {
    "scrolled": true
   },
   "outputs": [
    {
     "name": "stdout",
     "output_type": "stream",
     "text": [
      "Breakfast\n"
     ]
    }
   ],
   "source": [
    "#replace_room_with_rooms(sessions, 'Swan Rooms', 'Swan Room, Black', 'Swan Room, White')\n",
    "bridge_rooms(sessions);\n",
    "fill_empty_room_slots(sessions)"
   ]
  },
  {
   "cell_type": "code",
   "execution_count": 42,
   "metadata": {},
   "outputs": [
    {
     "data": {
      "text/plain": [
       "{('Dining Hall',),\n",
       " ('Elsey 1',),\n",
       " ('Georgian',),\n",
       " ('Georgian',\n",
       "  'Robertson Cafe',\n",
       "  'Reynolds',\n",
       "  'Outside',\n",
       "  'Dining Hall',\n",
       "  'Elsey 1'),\n",
       " ('Outside',),\n",
       " ('Reynolds',),\n",
       " ('Robertson Cafe',)}"
      ]
     },
     "execution_count": 42,
     "metadata": {},
     "output_type": "execute_result"
    }
   ],
   "source": [
    "set(tuple(cc.venues) for cc in sessions)"
   ]
  },
  {
   "cell_type": "code",
   "execution_count": 43,
   "metadata": {},
   "outputs": [],
   "source": [
    "venue_order = ('Georgian',\n",
    "  'Robertson Cafe',\n",
    "  'Reynolds',\n",
    "  'Outside',\n",
    "  'Dining Hall',\n",
    "  'Elsey 1')"
   ]
  },
  {
   "cell_type": "code",
   "execution_count": 44,
   "metadata": {},
   "outputs": [],
   "source": [
    "from pylatex.utils import escape_latex, NoEscape\n",
    "from pylatex.utils import NoEscape\n",
    "from pagelayout import Multicols\n",
    "from itertools import groupby\n",
    "from pylatex.base_classes import Environment\n",
    "\n",
    "class Minipage(Environment):\n",
    "    def __init__(self, width):\n",
    "        Environment.__init__(self,arguments=[width])\n",
    "\n",
    "\n",
    "def write_descriptions(sessions, doc):\n",
    "    for day_name, day_session in groupby(sessions, lambda ss: ss.day):\n",
    "        #with doc.create(Section(day_name,numbering=False)):\n",
    "            with doc.create(Multicols(2)):\n",
    "                doc.append(NoEscape(\"[\\section*{%s}]\" %day_name))\n",
    "                for session in day_session:\n",
    "                    if len(session.description)==0:\n",
    "                        continue\n",
    "                    title = session.title\n",
    "                    with doc.create(Subsection(title,numbering=False, label=False)):\n",
    "                        with doc.create(Description()) as desc:\n",
    "                            doc.append(Command(\"setlength\",[NoEscape(\"\\itemsep\"),\"0pt\"]))\n",
    "                            doc.append(Command(\"setlength\",[NoEscape(\"\\parsep\"),\"0pt\"]))\n",
    "                            doc.append(Command(\"setlength\",[NoEscape(\"\\parskip\"),\"0pt\"]))\n",
    "                            desc.add_item(\"When:\", session.day+\", \"+session.start_time+\" – \"+session.end_time)\n",
    "\n",
    "                            if len(session.venues)>0:\n",
    "                                desc.add_item(\"Where:\", \", \".join(session.venues))\n",
    "                            if len(session.people)>0:\n",
    "                                desc.add_item(\"Who:\", \", \".join(session.people))\n",
    "                            #if len(session.tags)>0:\n",
    "                            #    desc.add_item(\"Tags:\", \", \".join(session.tags))\n",
    "                        doc.append(session.description)\n",
    "                doc.append(Command(\"newpage\"))"
   ]
  },
  {
   "cell_type": "code",
   "execution_count": 45,
   "metadata": {
    "scrolled": true
   },
   "outputs": [],
   "source": [
    "import pylatex\n",
    "from pylatex import Document, Section, Subsection, Subsubsection, Table, Package, lists\n",
    "from pylatex.lists import Description\n",
    "\n",
    "from pylatex.utils import escape_latex, NoEscape\n",
    "from itertools import groupby\n",
    "from pylatex.base_classes.command import Options\n",
    "from pylatex.utils import escape_latex\n",
    "\n",
    "def write_venues(doc, tt_solver):\n",
    "    doc.append(textpos_origin('0.9cm','1cm'))\n",
    "    doc.append(TextcolorboxStyle('sharp corners','center upper', valign='center',\n",
    "                                 colframe='blue!50!black',colback='blue!10!white',\n",
    "                                 boxsep='0pt',top='0mm',bottom='0mm',left='0mm',right='1mm'))\n",
    "            \n",
    "    for venue in tt_solver.venues:\n",
    "        \n",
    "        venue_words = venue.split()\n",
    "        if len(venue_words) == 2:\n",
    "            #Split the string onto two lines if it exactly 2 words\n",
    "            venue_text = venue_words[0] + '\\n' + venue_words[1]\n",
    "        else:\n",
    "            venue_text = venue\n",
    "        \n",
    "        doc.append(FixedTextbox(venue_text,\n",
    "                                tt_solver.get_venue_x(venue),\n",
    "                                '0cm', \n",
    "                                '1.5cm',\n",
    "                                tt_solver.get_venue_width())\n",
    "                               )\n",
    "\n",
    "def make_pretty_timetable(doc,sessions, tt_solver):\n",
    "        \n",
    "    for date, day_sessions in groupby(sessions, lambda ss: ss.start.date()):   \n",
    "        day_str = str(DAYS[date.weekday()])\n",
    "        with doc.create(Subsection(NoEscape(day_str+\" \\hfill \"+day_str+\" \\hfill \"+day_str), numbering=False)):\n",
    "           \n",
    "            write_venues(doc,tt_solver)\n",
    "            doc.append(TextcolorboxStyle('rounded corners', 'center upper', valign='center',\n",
    "                                 colframe='blue!50!black',colback='white!10!white',\n",
    "                                 boxsep='1pt',top='0mm',bottom='0mm',left='0mm',right='0mm'))\n",
    "            \n",
    "            day_sessions = sorted(day_sessions, key = lambda ss: -len(ss.venues) or -len(tt_solver.venues)-1)\n",
    "            for session in day_sessions:\n",
    "                #print(\"*\", session.title)\n",
    "                colback = tt_solver.get_color(session)\n",
    "                tcb_options = Options(colback=colback) if colback else None\n",
    "                doc.append(FixedTextbox(NoEscape('%s \\\\\\\\ \\\\tcbfontsize{0.75} %s -- %s ' % \n",
    "                                                     tuple(map(escape_latex, (session.title, session.start_time, session.end_time)))),\n",
    "                                        tt_solver.get_x(session),\n",
    "                                        tt_solver.get_y(session), \n",
    "                                        tt_solver.get_height(session),\n",
    "                                        tt_solver.get_width(session),\n",
    "                                        tcb_options=tcb_options))\n",
    "\n",
    "            doc.append(Command('newpage'))"
   ]
  },
  {
   "cell_type": "code",
   "execution_count": 46,
   "metadata": {
    "scrolled": true
   },
   "outputs": [
    {
     "data": {
      "text/html": [
       "./out/<br>\n",
       "&nbsp;&nbsp;<a href='./out/exported_days.tex' target='_blank'>exported_days.tex</a><br>\n",
       "&nbsp;&nbsp;<a href='./out/exported.tex' target='_blank'>exported.tex</a><br>\n",
       "./out/.ipynb_checkpoints/<br>\n",
       "&nbsp;&nbsp;<a href='./out/.ipynb_checkpoints/exported-checkpoint.tex' target='_blank'>exported-checkpoint.tex</a><br>"
      ],
      "text/plain": [
       "./out/\n",
       "  exported_days.tex\n",
       "  exported.tex\n",
       "./out/.ipynb_checkpoints/\n",
       "  exported-checkpoint.tex"
      ]
     },
     "execution_count": 46,
     "metadata": {},
     "output_type": "execute_result"
    }
   ],
   "source": [
    "doc = Document(documentclass=\"scrreprt\")\n",
    "margins=['tmargin=0.5cm','bmargin=2cm','lmargin=1.5cm','rmargin=1cm',]\n",
    "doc.packages.append(Package('geometry', options=margins))\n",
    "doc.packages.append(Package('xcolor', options=[\"svgnames\",\"dvipsnames\"]))\n",
    "doc.packages.append(Package(\"microtype\"))\n",
    "\n",
    "#doc.packages.append(Package(\"draftwatermark\"))\n",
    "doc.append(Command(\"newgeometry\",arguments=\",\".join(margins)))\n",
    "#doc.append(Command(\"SetWatermarkText\", \"Draft v0.7.0\"))\n",
    "#doc.append(Command(\"SetWatermarkScale\", \"0.5\"))\n",
    "#doc.append(Command(\"SetWatermarkColor\", \"0.9,0.3,0.3\", \"rgb\"))\n",
    "\n",
    "\n",
    "#############\n",
    "tt_solver = timetable_metric_solver(sessions,\n",
    "                                    hour_len=1.7,\n",
    "                                    venue_width=2.15,\n",
    "                                    units='cm',\n",
    "                                    overlap=0.05,\n",
    "                                    voffset=1.7,             \n",
    "                                    venue_order = venue_order,\n",
    "                                    get_tag_colors = get_tag_colors_mono\n",
    "                                    )\n",
    "\n",
    "make_pretty_timetable(doc,sessions, tt_solver)\n",
    "write_descriptions(sessions,doc)\n",
    "\n",
    "###############\n",
    "with open(\"out/exported.tex\", 'w') as fh:\n",
    "    doc.dump(fh)\n",
    "#####\n",
    "    \n",
    "from IPython.display import FileLink, FileLinks\n",
    "    \n",
    "#!lualatex --output-directory=out --interaction=nonstopmode out/exported.tex\n",
    "FileLinks(\"./out\")"
   ]
  },
  {
   "cell_type": "code",
   "execution_count": null,
   "metadata": {},
   "outputs": [],
   "source": []
  },
  {
   "cell_type": "code",
   "execution_count": 14,
   "metadata": {},
   "outputs": [
    {
     "data": {
      "text/plain": [
       "['Stephen Dedman', 'Andrew Williams', 'Luke Chandler-Hopkins', 'Chris Creagh']"
      ]
     },
     "execution_count": 14,
     "metadata": {},
     "output_type": "execute_result"
    }
   ],
   "source": [
    "sessions[12].people"
   ]
  },
  {
   "cell_type": "code",
   "execution_count": 15,
   "metadata": {},
   "outputs": [
    {
     "data": {
      "text/html": [
       "./out/<br>\n",
       "&nbsp;&nbsp;<a href='./out/exported_days.tex' target='_blank'>exported_days.tex</a><br>\n",
       "&nbsp;&nbsp;<a href='./out/exported.tex' target='_blank'>exported.tex</a><br>"
      ],
      "text/plain": [
       "./out/\n",
       "  exported_days.tex\n",
       "  exported.tex"
      ]
     },
     "execution_count": 15,
     "metadata": {},
     "output_type": "execute_result"
    }
   ],
   "source": [
    "#ROOMs/DAYS\n",
    "\n",
    "import pylatex\n",
    "from pylatex import Document, Section, Subsection, Subsubsection, Table, Package,lists\n",
    "from pylatex.lists import Description\n",
    "from pylatex.base_classes import Command\n",
    "\n",
    "\n",
    "from itertools import groupby\n",
    "\n",
    "from collections import defaultdict\n",
    "vds = defaultdict(lambda : defaultdict(list))\n",
    "for date, day_sessions in groupby(sessions, lambda ss: ss.start.date()):\n",
    "    for sess in day_sessions:\n",
    "        for venue in sess.venues:\n",
    "            vds[venue][date].append(sess)\n",
    "\n",
    "#################################\n",
    "doc = Document(documentclass=\"article\")\n",
    "doc.packages.append(Package('enumitem'))\n",
    "doc.packages.append(Package('calc'))\n",
    "doc.append(NoEscape(r\"\\setlist[description]{leftmargin=!,labelwidth=\\widthof{\\bfseries 13:00  –  14:00}}\"))\n",
    "for venue in vds.keys():\n",
    "    doc.append(Command(\"newpage\"))\n",
    "    doc.append(Command(\"pagestyle\",\"empty\"))\n",
    "    doc.append(Command(\"LARGE\"))\n",
    "    doc.append(NoEscape(r\"\\renewcommand{\\familydefault}{\\sfdefault}\"))\n",
    "    for date in sorted(vds[venue]):\n",
    "        day = DAYS[date.weekday()]\n",
    "        with doc.create(Section(NoEscape(\"\\Huge %s\\\\\\\\ %s\" % (day,venue)), numbering=False)):\n",
    "            \n",
    "            with doc.create(Description()) as sched:\n",
    "                sesses = sorted(vds[venue][date], key=lambda ss: ss.start)\n",
    "                for sess in sesses:\n",
    "                    sched.add_item(NoEscape(\"%s  –  %s\" % (sess.start_time, sess.end_time)), sess.title)\n",
    "            doc.append(Command(\"newpage\"))\n",
    "            \n",
    "                \n",
    "\n",
    "from IPython.display import FileLink, FileLinks\n",
    "with open(\"out/exported_days.tex\", 'w') as temp_out:\n",
    "    doc.dump(temp_out)\n",
    "\n",
    "#!lualatex --output-directory=out --interaction=nonstopmode exported_days.tex\n",
    "FileLinks(\"./out\")\n"
   ]
  },
  {
   "cell_type": "code",
   "execution_count": null,
   "metadata": {},
   "outputs": [],
   "source": []
  },
  {
   "cell_type": "code",
   "execution_count": null,
   "metadata": {},
   "outputs": [],
   "source": []
  }
 ],
 "metadata": {
  "kernelspec": {
   "display_name": "Python 3",
   "language": "python",
   "name": "python3"
  },
  "language_info": {
   "codemirror_mode": {
    "name": "ipython",
    "version": 3
   },
   "file_extension": ".py",
   "mimetype": "text/x-python",
   "name": "python",
   "nbconvert_exporter": "python",
   "pygments_lexer": "ipython3",
   "version": "3.5.3"
  }
 },
 "nbformat": 4,
 "nbformat_minor": 2
}
